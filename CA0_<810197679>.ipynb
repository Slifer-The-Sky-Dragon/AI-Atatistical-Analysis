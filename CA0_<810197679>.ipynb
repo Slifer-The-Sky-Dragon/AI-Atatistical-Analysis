{
 "cells": [
  {
   "cell_type": "markdown",
   "metadata": {},
   "source": [
    "<div style=\"direction:rtl\"> به نام خدا </div>\n",
    "<div style=\"direction:rtl\"> نام : علیرضا آقایی </div>\n",
    "<div style=\"direction:rtl\"> شماره دانشجویی : 810197679</div>\n",
    "<div style=\"direction:rtl\"> گزارش کار تمرین کامپیوتری ۰ </div>\n",
    "<br></br>\n",
    "<div style=\"direction:rtl\"> هدف پروژه: </div>\n",
    "<div style=\"direction:rtl\"> پرکردن نواقص یک دیتاست با پیشبینی آنها به کمک تحلیل آماری </div>\n",
    "<br></br>\n",
    "<div style=\"direction:rtl\"> صورت پروژه : </div>\n",
    "<div style=\"direction:rtl\"> با استفاده از اطلاعات داده شده در فایل car_price_dataset.csv در مورد خودرو هایی که در آمریکا به فروش می‌رسند، ابتدا تعدادی از اطلاعات آماری که می‌توان با استفاده از اطلاعات داده شده به دست آورد را به دست آورید. سپس در نهایت با جایگزینی خانه های خالی با مقدار مناسب، تقریبی خطی برای به دست آوردن قیمت خودرو ها بر اساس یکی از ویژگی های آن به دست آورید که میزان خطای آن کمتر از 0.5 باشد. نمودار های مربوط به آن ها را نیز رسم کنید. کتاب خانه های مورد نیاز نیز pandas، numpy و matplotlib می‌باشد. </div>\n"
   ]
  },
  {
   "cell_type": "code",
   "execution_count": 33,
   "metadata": {},
   "outputs": [],
   "source": [
    "import time\n",
    "import pandas\n",
    "import matplotlib.pyplot"
   ]
  },
  {
   "cell_type": "markdown",
   "metadata": {},
   "source": [
    "<div style=\"direction:rtl\"> ۱- در این بخش ابتدا داده ها را از فایل csv داده شده در پروژه، می‌خوانیم: </div>"
   ]
  },
  {
   "cell_type": "code",
   "execution_count": 34,
   "metadata": {},
   "outputs": [],
   "source": [
    "df = pandas.read_csv('car_price_dataset.csv' , sep = ',')"
   ]
  },
  {
   "cell_type": "markdown",
   "metadata": {},
   "source": [
    "<div style=\"direction:rtl\"> حال با استفاده از تابع describe اطلاعات آماری زیر را به دست می‌آوریم: </div>\n",
    "<div style=\"direction:rtl\"> count : تعداد خانه های دارای مقدار در یک ستون </div>\n",
    "<div style=\"direction:rtl\"> mean : میانگین داده های یک ستون </div>\n",
    "<div style=\"direction:rtl\"> std : انحراف معیار داده های یک ستون </div>\n",
    "<div style=\"direction:rtl\"> min : کمترین مقدار داخل داده های یک ستون </div>\n",
    "<div style=\"direction:rtl\"> 25% , 50% , 75% : اطلاعاتی در مورد چارک ها  </div>\n",
    "<div style=\"direction:rtl\"> max : بیشترین مقدار داخل داده های یک ستون </div>"
   ]
  },
  {
   "cell_type": "code",
   "execution_count": 35,
   "metadata": {
    "scrolled": false
   },
   "outputs": [
    {
     "data": {
      "text/html": [
       "<div>\n",
       "<style scoped>\n",
       "    .dataframe tbody tr th:only-of-type {\n",
       "        vertical-align: middle;\n",
       "    }\n",
       "\n",
       "    .dataframe tbody tr th {\n",
       "        vertical-align: top;\n",
       "    }\n",
       "\n",
       "    .dataframe thead th {\n",
       "        text-align: right;\n",
       "    }\n",
       "</style>\n",
       "<table border=\"1\" class=\"dataframe\">\n",
       "  <thead>\n",
       "    <tr style=\"text-align: right;\">\n",
       "      <th></th>\n",
       "      <th>car_ID</th>\n",
       "      <th>carlength</th>\n",
       "      <th>carwidth</th>\n",
       "      <th>carheight</th>\n",
       "      <th>curbweight</th>\n",
       "      <th>enginesize</th>\n",
       "      <th>horsepower</th>\n",
       "      <th>citympg</th>\n",
       "      <th>highwaympg</th>\n",
       "      <th>price</th>\n",
       "    </tr>\n",
       "  </thead>\n",
       "  <tbody>\n",
       "    <tr>\n",
       "      <th>count</th>\n",
       "      <td>205.000000</td>\n",
       "      <td>205.000000</td>\n",
       "      <td>205.000000</td>\n",
       "      <td>205.000000</td>\n",
       "      <td>205.000000</td>\n",
       "      <td>191.000000</td>\n",
       "      <td>182.000000</td>\n",
       "      <td>205.000000</td>\n",
       "      <td>205.000000</td>\n",
       "      <td>185.000000</td>\n",
       "    </tr>\n",
       "    <tr>\n",
       "      <th>mean</th>\n",
       "      <td>103.000000</td>\n",
       "      <td>174.049268</td>\n",
       "      <td>65.907805</td>\n",
       "      <td>53.724878</td>\n",
       "      <td>2555.565854</td>\n",
       "      <td>125.418848</td>\n",
       "      <td>105.747253</td>\n",
       "      <td>25.219512</td>\n",
       "      <td>30.751220</td>\n",
       "      <td>13392.181984</td>\n",
       "    </tr>\n",
       "    <tr>\n",
       "      <th>std</th>\n",
       "      <td>59.322565</td>\n",
       "      <td>12.337289</td>\n",
       "      <td>2.145204</td>\n",
       "      <td>2.443522</td>\n",
       "      <td>520.680204</td>\n",
       "      <td>39.229587</td>\n",
       "      <td>40.288214</td>\n",
       "      <td>6.542142</td>\n",
       "      <td>6.886443</td>\n",
       "      <td>8235.838288</td>\n",
       "    </tr>\n",
       "    <tr>\n",
       "      <th>min</th>\n",
       "      <td>1.000000</td>\n",
       "      <td>141.100000</td>\n",
       "      <td>60.300000</td>\n",
       "      <td>47.800000</td>\n",
       "      <td>1488.000000</td>\n",
       "      <td>61.000000</td>\n",
       "      <td>52.000000</td>\n",
       "      <td>13.000000</td>\n",
       "      <td>16.000000</td>\n",
       "      <td>5118.000000</td>\n",
       "    </tr>\n",
       "    <tr>\n",
       "      <th>25%</th>\n",
       "      <td>52.000000</td>\n",
       "      <td>166.300000</td>\n",
       "      <td>64.100000</td>\n",
       "      <td>52.000000</td>\n",
       "      <td>2145.000000</td>\n",
       "      <td>97.000000</td>\n",
       "      <td>72.250000</td>\n",
       "      <td>19.000000</td>\n",
       "      <td>25.000000</td>\n",
       "      <td>7788.000000</td>\n",
       "    </tr>\n",
       "    <tr>\n",
       "      <th>50%</th>\n",
       "      <td>103.000000</td>\n",
       "      <td>173.200000</td>\n",
       "      <td>65.500000</td>\n",
       "      <td>54.100000</td>\n",
       "      <td>2414.000000</td>\n",
       "      <td>119.000000</td>\n",
       "      <td>95.000000</td>\n",
       "      <td>24.000000</td>\n",
       "      <td>30.000000</td>\n",
       "      <td>10295.000000</td>\n",
       "    </tr>\n",
       "    <tr>\n",
       "      <th>75%</th>\n",
       "      <td>154.000000</td>\n",
       "      <td>183.100000</td>\n",
       "      <td>66.900000</td>\n",
       "      <td>55.500000</td>\n",
       "      <td>2935.000000</td>\n",
       "      <td>141.000000</td>\n",
       "      <td>121.000000</td>\n",
       "      <td>30.000000</td>\n",
       "      <td>34.000000</td>\n",
       "      <td>16503.000000</td>\n",
       "    </tr>\n",
       "    <tr>\n",
       "      <th>max</th>\n",
       "      <td>205.000000</td>\n",
       "      <td>208.100000</td>\n",
       "      <td>72.300000</td>\n",
       "      <td>59.800000</td>\n",
       "      <td>4066.000000</td>\n",
       "      <td>326.000000</td>\n",
       "      <td>288.000000</td>\n",
       "      <td>49.000000</td>\n",
       "      <td>54.000000</td>\n",
       "      <td>45400.000000</td>\n",
       "    </tr>\n",
       "  </tbody>\n",
       "</table>\n",
       "</div>"
      ],
      "text/plain": [
       "           car_ID   carlength    carwidth   carheight   curbweight  \\\n",
       "count  205.000000  205.000000  205.000000  205.000000   205.000000   \n",
       "mean   103.000000  174.049268   65.907805   53.724878  2555.565854   \n",
       "std     59.322565   12.337289    2.145204    2.443522   520.680204   \n",
       "min      1.000000  141.100000   60.300000   47.800000  1488.000000   \n",
       "25%     52.000000  166.300000   64.100000   52.000000  2145.000000   \n",
       "50%    103.000000  173.200000   65.500000   54.100000  2414.000000   \n",
       "75%    154.000000  183.100000   66.900000   55.500000  2935.000000   \n",
       "max    205.000000  208.100000   72.300000   59.800000  4066.000000   \n",
       "\n",
       "       enginesize  horsepower     citympg  highwaympg         price  \n",
       "count  191.000000  182.000000  205.000000  205.000000    185.000000  \n",
       "mean   125.418848  105.747253   25.219512   30.751220  13392.181984  \n",
       "std     39.229587   40.288214    6.542142    6.886443   8235.838288  \n",
       "min     61.000000   52.000000   13.000000   16.000000   5118.000000  \n",
       "25%     97.000000   72.250000   19.000000   25.000000   7788.000000  \n",
       "50%    119.000000   95.000000   24.000000   30.000000  10295.000000  \n",
       "75%    141.000000  121.000000   30.000000   34.000000  16503.000000  \n",
       "max    326.000000  288.000000   49.000000   54.000000  45400.000000  "
      ]
     },
     "execution_count": 35,
     "metadata": {},
     "output_type": "execute_result"
    }
   ],
   "source": [
    "df.describe()"
   ]
  },
  {
   "cell_type": "markdown",
   "metadata": {},
   "source": [
    "<div style=\"direction:rtl\"> ۵ دیتای اول را با استفاده از تابع head نشان می‌دهیم: </div>"
   ]
  },
  {
   "cell_type": "code",
   "execution_count": 36,
   "metadata": {
    "scrolled": false
   },
   "outputs": [
    {
     "data": {
      "text/html": [
       "<div>\n",
       "<style scoped>\n",
       "    .dataframe tbody tr th:only-of-type {\n",
       "        vertical-align: middle;\n",
       "    }\n",
       "\n",
       "    .dataframe tbody tr th {\n",
       "        vertical-align: top;\n",
       "    }\n",
       "\n",
       "    .dataframe thead th {\n",
       "        text-align: right;\n",
       "    }\n",
       "</style>\n",
       "<table border=\"1\" class=\"dataframe\">\n",
       "  <thead>\n",
       "    <tr style=\"text-align: right;\">\n",
       "      <th></th>\n",
       "      <th>car_ID</th>\n",
       "      <th>CarName</th>\n",
       "      <th>fueltype</th>\n",
       "      <th>carlength</th>\n",
       "      <th>carwidth</th>\n",
       "      <th>carheight</th>\n",
       "      <th>curbweight</th>\n",
       "      <th>cylindernumber</th>\n",
       "      <th>enginesize</th>\n",
       "      <th>horsepower</th>\n",
       "      <th>citympg</th>\n",
       "      <th>highwaympg</th>\n",
       "      <th>price</th>\n",
       "    </tr>\n",
       "  </thead>\n",
       "  <tbody>\n",
       "    <tr>\n",
       "      <th>0</th>\n",
       "      <td>1</td>\n",
       "      <td>alfa-romero giulia</td>\n",
       "      <td>gas</td>\n",
       "      <td>168.8</td>\n",
       "      <td>64.1</td>\n",
       "      <td>48.8</td>\n",
       "      <td>2548</td>\n",
       "      <td>four</td>\n",
       "      <td>130.0</td>\n",
       "      <td>111.0</td>\n",
       "      <td>21</td>\n",
       "      <td>27</td>\n",
       "      <td>13495.0</td>\n",
       "    </tr>\n",
       "    <tr>\n",
       "      <th>1</th>\n",
       "      <td>2</td>\n",
       "      <td>alfa-romero stelvio</td>\n",
       "      <td>gas</td>\n",
       "      <td>168.8</td>\n",
       "      <td>64.1</td>\n",
       "      <td>48.8</td>\n",
       "      <td>2548</td>\n",
       "      <td>four</td>\n",
       "      <td>130.0</td>\n",
       "      <td>111.0</td>\n",
       "      <td>21</td>\n",
       "      <td>27</td>\n",
       "      <td>16500.0</td>\n",
       "    </tr>\n",
       "    <tr>\n",
       "      <th>2</th>\n",
       "      <td>3</td>\n",
       "      <td>alfa-romero Quadrifoglio</td>\n",
       "      <td>gas</td>\n",
       "      <td>171.2</td>\n",
       "      <td>65.5</td>\n",
       "      <td>52.4</td>\n",
       "      <td>2823</td>\n",
       "      <td>six</td>\n",
       "      <td>152.0</td>\n",
       "      <td>154.0</td>\n",
       "      <td>19</td>\n",
       "      <td>26</td>\n",
       "      <td>16500.0</td>\n",
       "    </tr>\n",
       "    <tr>\n",
       "      <th>3</th>\n",
       "      <td>4</td>\n",
       "      <td>audi 100 ls</td>\n",
       "      <td>gas</td>\n",
       "      <td>176.6</td>\n",
       "      <td>66.2</td>\n",
       "      <td>54.3</td>\n",
       "      <td>2337</td>\n",
       "      <td>four</td>\n",
       "      <td>109.0</td>\n",
       "      <td>NaN</td>\n",
       "      <td>24</td>\n",
       "      <td>30</td>\n",
       "      <td>13950.0</td>\n",
       "    </tr>\n",
       "    <tr>\n",
       "      <th>4</th>\n",
       "      <td>5</td>\n",
       "      <td>audi 100ls</td>\n",
       "      <td>gas</td>\n",
       "      <td>176.6</td>\n",
       "      <td>66.4</td>\n",
       "      <td>54.3</td>\n",
       "      <td>2824</td>\n",
       "      <td>five</td>\n",
       "      <td>136.0</td>\n",
       "      <td>115.0</td>\n",
       "      <td>18</td>\n",
       "      <td>22</td>\n",
       "      <td>NaN</td>\n",
       "    </tr>\n",
       "  </tbody>\n",
       "</table>\n",
       "</div>"
      ],
      "text/plain": [
       "   car_ID                   CarName fueltype  carlength  carwidth  carheight  \\\n",
       "0       1        alfa-romero giulia      gas      168.8      64.1       48.8   \n",
       "1       2       alfa-romero stelvio      gas      168.8      64.1       48.8   \n",
       "2       3  alfa-romero Quadrifoglio      gas      171.2      65.5       52.4   \n",
       "3       4               audi 100 ls      gas      176.6      66.2       54.3   \n",
       "4       5                audi 100ls      gas      176.6      66.4       54.3   \n",
       "\n",
       "   curbweight cylindernumber  enginesize  horsepower  citympg  highwaympg  \\\n",
       "0        2548           four       130.0       111.0       21          27   \n",
       "1        2548           four       130.0       111.0       21          27   \n",
       "2        2823            six       152.0       154.0       19          26   \n",
       "3        2337           four       109.0         NaN       24          30   \n",
       "4        2824           five       136.0       115.0       18          22   \n",
       "\n",
       "     price  \n",
       "0  13495.0  \n",
       "1  16500.0  \n",
       "2  16500.0  \n",
       "3  13950.0  \n",
       "4      NaN  "
      ]
     },
     "execution_count": 36,
     "metadata": {},
     "output_type": "execute_result"
    }
   ],
   "source": [
    "df.head()"
   ]
  },
  {
   "cell_type": "markdown",
   "metadata": {},
   "source": [
    "<div style=\"direction:rtl\"> ۵ دیتای آخر را با استفاده از تابع tail نشان می‌دهیم: </div>"
   ]
  },
  {
   "cell_type": "code",
   "execution_count": 37,
   "metadata": {},
   "outputs": [
    {
     "data": {
      "text/html": [
       "<div>\n",
       "<style scoped>\n",
       "    .dataframe tbody tr th:only-of-type {\n",
       "        vertical-align: middle;\n",
       "    }\n",
       "\n",
       "    .dataframe tbody tr th {\n",
       "        vertical-align: top;\n",
       "    }\n",
       "\n",
       "    .dataframe thead th {\n",
       "        text-align: right;\n",
       "    }\n",
       "</style>\n",
       "<table border=\"1\" class=\"dataframe\">\n",
       "  <thead>\n",
       "    <tr style=\"text-align: right;\">\n",
       "      <th></th>\n",
       "      <th>car_ID</th>\n",
       "      <th>CarName</th>\n",
       "      <th>fueltype</th>\n",
       "      <th>carlength</th>\n",
       "      <th>carwidth</th>\n",
       "      <th>carheight</th>\n",
       "      <th>curbweight</th>\n",
       "      <th>cylindernumber</th>\n",
       "      <th>enginesize</th>\n",
       "      <th>horsepower</th>\n",
       "      <th>citympg</th>\n",
       "      <th>highwaympg</th>\n",
       "      <th>price</th>\n",
       "    </tr>\n",
       "  </thead>\n",
       "  <tbody>\n",
       "    <tr>\n",
       "      <th>200</th>\n",
       "      <td>201</td>\n",
       "      <td>volvo 145e (sw)</td>\n",
       "      <td>gas</td>\n",
       "      <td>188.8</td>\n",
       "      <td>68.9</td>\n",
       "      <td>55.5</td>\n",
       "      <td>2952</td>\n",
       "      <td>four</td>\n",
       "      <td>141.0</td>\n",
       "      <td>114.0</td>\n",
       "      <td>23</td>\n",
       "      <td>28</td>\n",
       "      <td>16845.0</td>\n",
       "    </tr>\n",
       "    <tr>\n",
       "      <th>201</th>\n",
       "      <td>202</td>\n",
       "      <td>volvo 144ea</td>\n",
       "      <td>gas</td>\n",
       "      <td>188.8</td>\n",
       "      <td>68.8</td>\n",
       "      <td>55.5</td>\n",
       "      <td>3049</td>\n",
       "      <td>four</td>\n",
       "      <td>141.0</td>\n",
       "      <td>160.0</td>\n",
       "      <td>19</td>\n",
       "      <td>25</td>\n",
       "      <td>19045.0</td>\n",
       "    </tr>\n",
       "    <tr>\n",
       "      <th>202</th>\n",
       "      <td>203</td>\n",
       "      <td>volvo 244dl</td>\n",
       "      <td>gas</td>\n",
       "      <td>188.8</td>\n",
       "      <td>68.9</td>\n",
       "      <td>55.5</td>\n",
       "      <td>3012</td>\n",
       "      <td>six</td>\n",
       "      <td>173.0</td>\n",
       "      <td>134.0</td>\n",
       "      <td>18</td>\n",
       "      <td>23</td>\n",
       "      <td>21485.0</td>\n",
       "    </tr>\n",
       "    <tr>\n",
       "      <th>203</th>\n",
       "      <td>204</td>\n",
       "      <td>volvo 246</td>\n",
       "      <td>diesel</td>\n",
       "      <td>188.8</td>\n",
       "      <td>68.9</td>\n",
       "      <td>55.5</td>\n",
       "      <td>3217</td>\n",
       "      <td>six</td>\n",
       "      <td>145.0</td>\n",
       "      <td>106.0</td>\n",
       "      <td>26</td>\n",
       "      <td>27</td>\n",
       "      <td>22470.0</td>\n",
       "    </tr>\n",
       "    <tr>\n",
       "      <th>204</th>\n",
       "      <td>205</td>\n",
       "      <td>volvo 264gl</td>\n",
       "      <td>gas</td>\n",
       "      <td>188.8</td>\n",
       "      <td>68.9</td>\n",
       "      <td>55.5</td>\n",
       "      <td>3062</td>\n",
       "      <td>four</td>\n",
       "      <td>141.0</td>\n",
       "      <td>114.0</td>\n",
       "      <td>19</td>\n",
       "      <td>25</td>\n",
       "      <td>22625.0</td>\n",
       "    </tr>\n",
       "  </tbody>\n",
       "</table>\n",
       "</div>"
      ],
      "text/plain": [
       "     car_ID          CarName fueltype  carlength  carwidth  carheight  \\\n",
       "200     201  volvo 145e (sw)      gas      188.8      68.9       55.5   \n",
       "201     202      volvo 144ea      gas      188.8      68.8       55.5   \n",
       "202     203      volvo 244dl      gas      188.8      68.9       55.5   \n",
       "203     204        volvo 246   diesel      188.8      68.9       55.5   \n",
       "204     205      volvo 264gl      gas      188.8      68.9       55.5   \n",
       "\n",
       "     curbweight cylindernumber  enginesize  horsepower  citympg  highwaympg  \\\n",
       "200        2952           four       141.0       114.0       23          28   \n",
       "201        3049           four       141.0       160.0       19          25   \n",
       "202        3012            six       173.0       134.0       18          23   \n",
       "203        3217            six       145.0       106.0       26          27   \n",
       "204        3062           four       141.0       114.0       19          25   \n",
       "\n",
       "       price  \n",
       "200  16845.0  \n",
       "201  19045.0  \n",
       "202  21485.0  \n",
       "203  22470.0  \n",
       "204  22625.0  "
      ]
     },
     "execution_count": 37,
     "metadata": {},
     "output_type": "execute_result"
    }
   ],
   "source": [
    "df.tail()"
   ]
  },
  {
   "cell_type": "markdown",
   "metadata": {},
   "source": [
    "<div style=\"direction:rtl\"> ۲- نوع هر کدام از ستون های داده را با استفاده از تابع info نشان می‌دهیم: </div>"
   ]
  },
  {
   "cell_type": "code",
   "execution_count": 38,
   "metadata": {},
   "outputs": [
    {
     "name": "stdout",
     "output_type": "stream",
     "text": [
      "<class 'pandas.core.frame.DataFrame'>\n",
      "RangeIndex: 205 entries, 0 to 204\n",
      "Data columns (total 13 columns):\n",
      " #   Column          Non-Null Count  Dtype  \n",
      "---  ------          --------------  -----  \n",
      " 0   car_ID          205 non-null    int64  \n",
      " 1   CarName         205 non-null    object \n",
      " 2   fueltype        205 non-null    object \n",
      " 3   carlength       205 non-null    float64\n",
      " 4   carwidth        205 non-null    float64\n",
      " 5   carheight       205 non-null    float64\n",
      " 6   curbweight      205 non-null    int64  \n",
      " 7   cylindernumber  205 non-null    object \n",
      " 8   enginesize      191 non-null    float64\n",
      " 9   horsepower      182 non-null    float64\n",
      " 10  citympg         205 non-null    int64  \n",
      " 11  highwaympg      205 non-null    int64  \n",
      " 12  price           185 non-null    float64\n",
      "dtypes: float64(6), int64(4), object(3)\n",
      "memory usage: 20.9+ KB\n"
     ]
    }
   ],
   "source": [
    "df.info()"
   ]
  },
  {
   "cell_type": "markdown",
   "metadata": {},
   "source": [
    "<div style=\"direction:rtl\"> با استفاده از تابع replace مقدایر داخل ستون fueltype را برچسب گذاری میکنیم: (gas = 0 , diesel = 1)\n",
    " </div>"
   ]
  },
  {
   "cell_type": "code",
   "execution_count": 39,
   "metadata": {
    "scrolled": true
   },
   "outputs": [
    {
     "data": {
      "text/plain": [
       "0      0\n",
       "1      0\n",
       "2      0\n",
       "3      0\n",
       "4      0\n",
       "      ..\n",
       "200    0\n",
       "201    0\n",
       "202    0\n",
       "203    1\n",
       "204    0\n",
       "Name: fueltype, Length: 205, dtype: int64"
      ]
     },
     "execution_count": 39,
     "metadata": {},
     "output_type": "execute_result"
    }
   ],
   "source": [
    "df['fueltype'].replace({'gas' : 0 , 'diesel' : 1} , inplace = True)\n",
    "df['fueltype']"
   ]
  },
  {
   "cell_type": "markdown",
   "metadata": {},
   "source": [
    "<div style=\"direction:rtl\"> ۳-\n",
    "ابتدا خانه‌هایی که مقدار آن‌ها برابر با Nan است را با استفاده از تابع isna می‌یابیم. سپس با استفاده از تابع sum تعداد آن‌ها را در هر ستون به دست می‌آوریم: </div>"
   ]
  },
  {
   "cell_type": "code",
   "execution_count": 40,
   "metadata": {},
   "outputs": [
    {
     "data": {
      "text/plain": [
       "car_ID             0\n",
       "CarName            0\n",
       "fueltype           0\n",
       "carlength          0\n",
       "carwidth           0\n",
       "carheight          0\n",
       "curbweight         0\n",
       "cylindernumber     0\n",
       "enginesize        14\n",
       "horsepower        23\n",
       "citympg            0\n",
       "highwaympg         0\n",
       "price             20\n",
       "dtype: int64"
      ]
     },
     "execution_count": 40,
     "metadata": {},
     "output_type": "execute_result"
    }
   ],
   "source": [
    "df.isna().sum()"
   ]
  },
  {
   "cell_type": "markdown",
   "metadata": {},
   "source": [
    "<div style=\"direction:rtl\"> مقادیر Nan داخل ستون ها را ( به جز ستون price ) را با میانگین آن ستون جایگزین می‌کنیم:\n",
    " </div>"
   ]
  },
  {
   "cell_type": "code",
   "execution_count": 41,
   "metadata": {
    "scrolled": false
   },
   "outputs": [
    {
     "data": {
      "text/html": [
       "<div>\n",
       "<style scoped>\n",
       "    .dataframe tbody tr th:only-of-type {\n",
       "        vertical-align: middle;\n",
       "    }\n",
       "\n",
       "    .dataframe tbody tr th {\n",
       "        vertical-align: top;\n",
       "    }\n",
       "\n",
       "    .dataframe thead th {\n",
       "        text-align: right;\n",
       "    }\n",
       "</style>\n",
       "<table border=\"1\" class=\"dataframe\">\n",
       "  <thead>\n",
       "    <tr style=\"text-align: right;\">\n",
       "      <th></th>\n",
       "      <th>car_ID</th>\n",
       "      <th>CarName</th>\n",
       "      <th>fueltype</th>\n",
       "      <th>carlength</th>\n",
       "      <th>carwidth</th>\n",
       "      <th>carheight</th>\n",
       "      <th>curbweight</th>\n",
       "      <th>cylindernumber</th>\n",
       "      <th>enginesize</th>\n",
       "      <th>horsepower</th>\n",
       "      <th>citympg</th>\n",
       "      <th>highwaympg</th>\n",
       "      <th>price</th>\n",
       "    </tr>\n",
       "  </thead>\n",
       "  <tbody>\n",
       "    <tr>\n",
       "      <th>0</th>\n",
       "      <td>1</td>\n",
       "      <td>alfa-romero giulia</td>\n",
       "      <td>0</td>\n",
       "      <td>168.8</td>\n",
       "      <td>64.1</td>\n",
       "      <td>48.8</td>\n",
       "      <td>2548</td>\n",
       "      <td>four</td>\n",
       "      <td>130.0</td>\n",
       "      <td>111.000000</td>\n",
       "      <td>21</td>\n",
       "      <td>27</td>\n",
       "      <td>13495.0</td>\n",
       "    </tr>\n",
       "    <tr>\n",
       "      <th>1</th>\n",
       "      <td>2</td>\n",
       "      <td>alfa-romero stelvio</td>\n",
       "      <td>0</td>\n",
       "      <td>168.8</td>\n",
       "      <td>64.1</td>\n",
       "      <td>48.8</td>\n",
       "      <td>2548</td>\n",
       "      <td>four</td>\n",
       "      <td>130.0</td>\n",
       "      <td>111.000000</td>\n",
       "      <td>21</td>\n",
       "      <td>27</td>\n",
       "      <td>16500.0</td>\n",
       "    </tr>\n",
       "    <tr>\n",
       "      <th>2</th>\n",
       "      <td>3</td>\n",
       "      <td>alfa-romero Quadrifoglio</td>\n",
       "      <td>0</td>\n",
       "      <td>171.2</td>\n",
       "      <td>65.5</td>\n",
       "      <td>52.4</td>\n",
       "      <td>2823</td>\n",
       "      <td>six</td>\n",
       "      <td>152.0</td>\n",
       "      <td>154.000000</td>\n",
       "      <td>19</td>\n",
       "      <td>26</td>\n",
       "      <td>16500.0</td>\n",
       "    </tr>\n",
       "    <tr>\n",
       "      <th>3</th>\n",
       "      <td>4</td>\n",
       "      <td>audi 100 ls</td>\n",
       "      <td>0</td>\n",
       "      <td>176.6</td>\n",
       "      <td>66.2</td>\n",
       "      <td>54.3</td>\n",
       "      <td>2337</td>\n",
       "      <td>four</td>\n",
       "      <td>109.0</td>\n",
       "      <td>105.747253</td>\n",
       "      <td>24</td>\n",
       "      <td>30</td>\n",
       "      <td>13950.0</td>\n",
       "    </tr>\n",
       "    <tr>\n",
       "      <th>4</th>\n",
       "      <td>5</td>\n",
       "      <td>audi 100ls</td>\n",
       "      <td>0</td>\n",
       "      <td>176.6</td>\n",
       "      <td>66.4</td>\n",
       "      <td>54.3</td>\n",
       "      <td>2824</td>\n",
       "      <td>five</td>\n",
       "      <td>136.0</td>\n",
       "      <td>115.000000</td>\n",
       "      <td>18</td>\n",
       "      <td>22</td>\n",
       "      <td>NaN</td>\n",
       "    </tr>\n",
       "    <tr>\n",
       "      <th>...</th>\n",
       "      <td>...</td>\n",
       "      <td>...</td>\n",
       "      <td>...</td>\n",
       "      <td>...</td>\n",
       "      <td>...</td>\n",
       "      <td>...</td>\n",
       "      <td>...</td>\n",
       "      <td>...</td>\n",
       "      <td>...</td>\n",
       "      <td>...</td>\n",
       "      <td>...</td>\n",
       "      <td>...</td>\n",
       "      <td>...</td>\n",
       "    </tr>\n",
       "    <tr>\n",
       "      <th>200</th>\n",
       "      <td>201</td>\n",
       "      <td>volvo 145e (sw)</td>\n",
       "      <td>0</td>\n",
       "      <td>188.8</td>\n",
       "      <td>68.9</td>\n",
       "      <td>55.5</td>\n",
       "      <td>2952</td>\n",
       "      <td>four</td>\n",
       "      <td>141.0</td>\n",
       "      <td>114.000000</td>\n",
       "      <td>23</td>\n",
       "      <td>28</td>\n",
       "      <td>16845.0</td>\n",
       "    </tr>\n",
       "    <tr>\n",
       "      <th>201</th>\n",
       "      <td>202</td>\n",
       "      <td>volvo 144ea</td>\n",
       "      <td>0</td>\n",
       "      <td>188.8</td>\n",
       "      <td>68.8</td>\n",
       "      <td>55.5</td>\n",
       "      <td>3049</td>\n",
       "      <td>four</td>\n",
       "      <td>141.0</td>\n",
       "      <td>160.000000</td>\n",
       "      <td>19</td>\n",
       "      <td>25</td>\n",
       "      <td>19045.0</td>\n",
       "    </tr>\n",
       "    <tr>\n",
       "      <th>202</th>\n",
       "      <td>203</td>\n",
       "      <td>volvo 244dl</td>\n",
       "      <td>0</td>\n",
       "      <td>188.8</td>\n",
       "      <td>68.9</td>\n",
       "      <td>55.5</td>\n",
       "      <td>3012</td>\n",
       "      <td>six</td>\n",
       "      <td>173.0</td>\n",
       "      <td>134.000000</td>\n",
       "      <td>18</td>\n",
       "      <td>23</td>\n",
       "      <td>21485.0</td>\n",
       "    </tr>\n",
       "    <tr>\n",
       "      <th>203</th>\n",
       "      <td>204</td>\n",
       "      <td>volvo 246</td>\n",
       "      <td>1</td>\n",
       "      <td>188.8</td>\n",
       "      <td>68.9</td>\n",
       "      <td>55.5</td>\n",
       "      <td>3217</td>\n",
       "      <td>six</td>\n",
       "      <td>145.0</td>\n",
       "      <td>106.000000</td>\n",
       "      <td>26</td>\n",
       "      <td>27</td>\n",
       "      <td>22470.0</td>\n",
       "    </tr>\n",
       "    <tr>\n",
       "      <th>204</th>\n",
       "      <td>205</td>\n",
       "      <td>volvo 264gl</td>\n",
       "      <td>0</td>\n",
       "      <td>188.8</td>\n",
       "      <td>68.9</td>\n",
       "      <td>55.5</td>\n",
       "      <td>3062</td>\n",
       "      <td>four</td>\n",
       "      <td>141.0</td>\n",
       "      <td>114.000000</td>\n",
       "      <td>19</td>\n",
       "      <td>25</td>\n",
       "      <td>22625.0</td>\n",
       "    </tr>\n",
       "  </tbody>\n",
       "</table>\n",
       "<p>205 rows × 13 columns</p>\n",
       "</div>"
      ],
      "text/plain": [
       "     car_ID                   CarName  fueltype  carlength  carwidth  \\\n",
       "0         1        alfa-romero giulia         0      168.8      64.1   \n",
       "1         2       alfa-romero stelvio         0      168.8      64.1   \n",
       "2         3  alfa-romero Quadrifoglio         0      171.2      65.5   \n",
       "3         4               audi 100 ls         0      176.6      66.2   \n",
       "4         5                audi 100ls         0      176.6      66.4   \n",
       "..      ...                       ...       ...        ...       ...   \n",
       "200     201           volvo 145e (sw)         0      188.8      68.9   \n",
       "201     202               volvo 144ea         0      188.8      68.8   \n",
       "202     203               volvo 244dl         0      188.8      68.9   \n",
       "203     204                 volvo 246         1      188.8      68.9   \n",
       "204     205               volvo 264gl         0      188.8      68.9   \n",
       "\n",
       "     carheight  curbweight cylindernumber  enginesize  horsepower  citympg  \\\n",
       "0         48.8        2548           four       130.0  111.000000       21   \n",
       "1         48.8        2548           four       130.0  111.000000       21   \n",
       "2         52.4        2823            six       152.0  154.000000       19   \n",
       "3         54.3        2337           four       109.0  105.747253       24   \n",
       "4         54.3        2824           five       136.0  115.000000       18   \n",
       "..         ...         ...            ...         ...         ...      ...   \n",
       "200       55.5        2952           four       141.0  114.000000       23   \n",
       "201       55.5        3049           four       141.0  160.000000       19   \n",
       "202       55.5        3012            six       173.0  134.000000       18   \n",
       "203       55.5        3217            six       145.0  106.000000       26   \n",
       "204       55.5        3062           four       141.0  114.000000       19   \n",
       "\n",
       "     highwaympg    price  \n",
       "0            27  13495.0  \n",
       "1            27  16500.0  \n",
       "2            26  16500.0  \n",
       "3            30  13950.0  \n",
       "4            22      NaN  \n",
       "..          ...      ...  \n",
       "200          28  16845.0  \n",
       "201          25  19045.0  \n",
       "202          23  21485.0  \n",
       "203          27  22470.0  \n",
       "204          25  22625.0  \n",
       "\n",
       "[205 rows x 13 columns]"
      ]
     },
     "execution_count": 41,
     "metadata": {},
     "output_type": "execute_result"
    }
   ],
   "source": [
    "df.loc[: , df.columns != 'price'] = df.loc[: , df.columns != 'price'].fillna(df.mean())\n",
    "df"
   ]
  },
  {
   "cell_type": "markdown",
   "metadata": {},
   "source": [
    "<div style=\"direction:rtl\"> مزایا و معایب جایگزین کردن مقدار سلول های خالی  با مقدار میانگین ستون: </div>\n",
    "<div style=\"direction:rtl\"> معایب: </div>\n",
    "<div style=\"direction:rtl\"> ۱- در این روش به correlation میان ویژگی ها توجه نمی‌شود. </div>\n",
    "<div style=\"direction:rtl\"> ۲- این روش باعث کاهش واریانس داده ها می‌شود. </div>\n",
    "<div style=\"direction:rtl\"> مزایا: </div>\n",
    "<div style=\"direction:rtl\"> ۱- با توجه به این که این روش تمام مقادیر خالی را جایگزین می‌کند، بنابراین می‌توانیم از کل database استفاده کرد. </div>\n",
    "<div style=\"direction:rtl\"> ۲- روشی قابل قهم به همراه پیاده سازی ساده </div>"
   ]
  },
  {
   "cell_type": "markdown",
   "metadata": {},
   "source": [
    "<div style=\"direction:rtl\">سطر هایی که مقدار ستون price در آن‌ها برابر با NaN است را جدا کرده و در new_df ذخیره می‌کنیم:\n",
    " </div>"
   ]
  },
  {
   "cell_type": "code",
   "execution_count": 42,
   "metadata": {
    "scrolled": false
   },
   "outputs": [
    {
     "data": {
      "text/html": [
       "<div>\n",
       "<style scoped>\n",
       "    .dataframe tbody tr th:only-of-type {\n",
       "        vertical-align: middle;\n",
       "    }\n",
       "\n",
       "    .dataframe tbody tr th {\n",
       "        vertical-align: top;\n",
       "    }\n",
       "\n",
       "    .dataframe thead th {\n",
       "        text-align: right;\n",
       "    }\n",
       "</style>\n",
       "<table border=\"1\" class=\"dataframe\">\n",
       "  <thead>\n",
       "    <tr style=\"text-align: right;\">\n",
       "      <th></th>\n",
       "      <th>car_ID</th>\n",
       "      <th>CarName</th>\n",
       "      <th>fueltype</th>\n",
       "      <th>carlength</th>\n",
       "      <th>carwidth</th>\n",
       "      <th>carheight</th>\n",
       "      <th>curbweight</th>\n",
       "      <th>cylindernumber</th>\n",
       "      <th>enginesize</th>\n",
       "      <th>horsepower</th>\n",
       "      <th>citympg</th>\n",
       "      <th>highwaympg</th>\n",
       "      <th>price</th>\n",
       "    </tr>\n",
       "  </thead>\n",
       "  <tbody>\n",
       "    <tr>\n",
       "      <th>4</th>\n",
       "      <td>5</td>\n",
       "      <td>audi 100ls</td>\n",
       "      <td>0</td>\n",
       "      <td>176.6</td>\n",
       "      <td>66.4</td>\n",
       "      <td>54.3</td>\n",
       "      <td>2824</td>\n",
       "      <td>five</td>\n",
       "      <td>136.000000</td>\n",
       "      <td>115.0</td>\n",
       "      <td>18</td>\n",
       "      <td>22</td>\n",
       "      <td>NaN</td>\n",
       "    </tr>\n",
       "    <tr>\n",
       "      <th>29</th>\n",
       "      <td>30</td>\n",
       "      <td>dodge coronet custom (sw)</td>\n",
       "      <td>0</td>\n",
       "      <td>173.2</td>\n",
       "      <td>66.3</td>\n",
       "      <td>50.2</td>\n",
       "      <td>2811</td>\n",
       "      <td>four</td>\n",
       "      <td>156.000000</td>\n",
       "      <td>145.0</td>\n",
       "      <td>19</td>\n",
       "      <td>24</td>\n",
       "      <td>NaN</td>\n",
       "    </tr>\n",
       "    <tr>\n",
       "      <th>31</th>\n",
       "      <td>32</td>\n",
       "      <td>honda civic cvcc</td>\n",
       "      <td>0</td>\n",
       "      <td>144.6</td>\n",
       "      <td>63.9</td>\n",
       "      <td>50.8</td>\n",
       "      <td>1819</td>\n",
       "      <td>four</td>\n",
       "      <td>92.000000</td>\n",
       "      <td>76.0</td>\n",
       "      <td>31</td>\n",
       "      <td>38</td>\n",
       "      <td>NaN</td>\n",
       "    </tr>\n",
       "    <tr>\n",
       "      <th>52</th>\n",
       "      <td>53</td>\n",
       "      <td>mazda rx2 coupe</td>\n",
       "      <td>0</td>\n",
       "      <td>159.1</td>\n",
       "      <td>64.2</td>\n",
       "      <td>54.1</td>\n",
       "      <td>1905</td>\n",
       "      <td>four</td>\n",
       "      <td>91.000000</td>\n",
       "      <td>68.0</td>\n",
       "      <td>31</td>\n",
       "      <td>38</td>\n",
       "      <td>NaN</td>\n",
       "    </tr>\n",
       "    <tr>\n",
       "      <th>53</th>\n",
       "      <td>54</td>\n",
       "      <td>mazda rx-4</td>\n",
       "      <td>0</td>\n",
       "      <td>166.8</td>\n",
       "      <td>64.2</td>\n",
       "      <td>54.1</td>\n",
       "      <td>1945</td>\n",
       "      <td>four</td>\n",
       "      <td>91.000000</td>\n",
       "      <td>68.0</td>\n",
       "      <td>31</td>\n",
       "      <td>38</td>\n",
       "      <td>NaN</td>\n",
       "    </tr>\n",
       "    <tr>\n",
       "      <th>59</th>\n",
       "      <td>60</td>\n",
       "      <td>mazda 626</td>\n",
       "      <td>0</td>\n",
       "      <td>177.8</td>\n",
       "      <td>66.5</td>\n",
       "      <td>53.7</td>\n",
       "      <td>2385</td>\n",
       "      <td>four</td>\n",
       "      <td>122.000000</td>\n",
       "      <td>84.0</td>\n",
       "      <td>26</td>\n",
       "      <td>32</td>\n",
       "      <td>NaN</td>\n",
       "    </tr>\n",
       "    <tr>\n",
       "      <th>62</th>\n",
       "      <td>63</td>\n",
       "      <td>mazda rx-4</td>\n",
       "      <td>0</td>\n",
       "      <td>177.8</td>\n",
       "      <td>66.5</td>\n",
       "      <td>55.5</td>\n",
       "      <td>2410</td>\n",
       "      <td>four</td>\n",
       "      <td>122.000000</td>\n",
       "      <td>84.0</td>\n",
       "      <td>26</td>\n",
       "      <td>32</td>\n",
       "      <td>NaN</td>\n",
       "    </tr>\n",
       "    <tr>\n",
       "      <th>67</th>\n",
       "      <td>68</td>\n",
       "      <td>buick electra 225 custom</td>\n",
       "      <td>1</td>\n",
       "      <td>190.9</td>\n",
       "      <td>70.3</td>\n",
       "      <td>56.5</td>\n",
       "      <td>3515</td>\n",
       "      <td>five</td>\n",
       "      <td>183.000000</td>\n",
       "      <td>123.0</td>\n",
       "      <td>22</td>\n",
       "      <td>25</td>\n",
       "      <td>NaN</td>\n",
       "    </tr>\n",
       "    <tr>\n",
       "      <th>78</th>\n",
       "      <td>79</td>\n",
       "      <td>mitsubishi outlander</td>\n",
       "      <td>0</td>\n",
       "      <td>157.3</td>\n",
       "      <td>64.4</td>\n",
       "      <td>50.8</td>\n",
       "      <td>2004</td>\n",
       "      <td>four</td>\n",
       "      <td>92.000000</td>\n",
       "      <td>68.0</td>\n",
       "      <td>31</td>\n",
       "      <td>38</td>\n",
       "      <td>NaN</td>\n",
       "    </tr>\n",
       "    <tr>\n",
       "      <th>84</th>\n",
       "      <td>85</td>\n",
       "      <td>mitsubishi mirage g4</td>\n",
       "      <td>0</td>\n",
       "      <td>173.2</td>\n",
       "      <td>66.3</td>\n",
       "      <td>50.2</td>\n",
       "      <td>2926</td>\n",
       "      <td>four</td>\n",
       "      <td>156.000000</td>\n",
       "      <td>145.0</td>\n",
       "      <td>19</td>\n",
       "      <td>24</td>\n",
       "      <td>NaN</td>\n",
       "    </tr>\n",
       "    <tr>\n",
       "      <th>87</th>\n",
       "      <td>88</td>\n",
       "      <td>mitsubishi outlander</td>\n",
       "      <td>0</td>\n",
       "      <td>172.4</td>\n",
       "      <td>65.4</td>\n",
       "      <td>51.6</td>\n",
       "      <td>2403</td>\n",
       "      <td>four</td>\n",
       "      <td>110.000000</td>\n",
       "      <td>116.0</td>\n",
       "      <td>23</td>\n",
       "      <td>30</td>\n",
       "      <td>NaN</td>\n",
       "    </tr>\n",
       "    <tr>\n",
       "      <th>88</th>\n",
       "      <td>89</td>\n",
       "      <td>mitsubishi mirage g4</td>\n",
       "      <td>0</td>\n",
       "      <td>172.4</td>\n",
       "      <td>65.4</td>\n",
       "      <td>51.6</td>\n",
       "      <td>2403</td>\n",
       "      <td>four</td>\n",
       "      <td>110.000000</td>\n",
       "      <td>116.0</td>\n",
       "      <td>23</td>\n",
       "      <td>30</td>\n",
       "      <td>NaN</td>\n",
       "    </tr>\n",
       "    <tr>\n",
       "      <th>104</th>\n",
       "      <td>105</td>\n",
       "      <td>nissan teana</td>\n",
       "      <td>0</td>\n",
       "      <td>170.7</td>\n",
       "      <td>67.9</td>\n",
       "      <td>49.7</td>\n",
       "      <td>3071</td>\n",
       "      <td>six</td>\n",
       "      <td>181.000000</td>\n",
       "      <td>160.0</td>\n",
       "      <td>19</td>\n",
       "      <td>25</td>\n",
       "      <td>NaN</td>\n",
       "    </tr>\n",
       "    <tr>\n",
       "      <th>123</th>\n",
       "      <td>124</td>\n",
       "      <td>plymouth valiant</td>\n",
       "      <td>0</td>\n",
       "      <td>174.6</td>\n",
       "      <td>64.6</td>\n",
       "      <td>59.8</td>\n",
       "      <td>2535</td>\n",
       "      <td>four</td>\n",
       "      <td>122.000000</td>\n",
       "      <td>88.0</td>\n",
       "      <td>24</td>\n",
       "      <td>30</td>\n",
       "      <td>NaN</td>\n",
       "    </tr>\n",
       "    <tr>\n",
       "      <th>136</th>\n",
       "      <td>137</td>\n",
       "      <td>saab 99gle</td>\n",
       "      <td>0</td>\n",
       "      <td>186.6</td>\n",
       "      <td>66.5</td>\n",
       "      <td>56.1</td>\n",
       "      <td>2808</td>\n",
       "      <td>four</td>\n",
       "      <td>125.418848</td>\n",
       "      <td>160.0</td>\n",
       "      <td>19</td>\n",
       "      <td>26</td>\n",
       "      <td>NaN</td>\n",
       "    </tr>\n",
       "    <tr>\n",
       "      <th>137</th>\n",
       "      <td>138</td>\n",
       "      <td>saab 99e</td>\n",
       "      <td>0</td>\n",
       "      <td>186.6</td>\n",
       "      <td>66.5</td>\n",
       "      <td>56.1</td>\n",
       "      <td>2847</td>\n",
       "      <td>four</td>\n",
       "      <td>121.000000</td>\n",
       "      <td>160.0</td>\n",
       "      <td>19</td>\n",
       "      <td>26</td>\n",
       "      <td>NaN</td>\n",
       "    </tr>\n",
       "    <tr>\n",
       "      <th>141</th>\n",
       "      <td>142</td>\n",
       "      <td>subaru</td>\n",
       "      <td>0</td>\n",
       "      <td>172.0</td>\n",
       "      <td>65.4</td>\n",
       "      <td>52.5</td>\n",
       "      <td>2145</td>\n",
       "      <td>four</td>\n",
       "      <td>108.000000</td>\n",
       "      <td>82.0</td>\n",
       "      <td>32</td>\n",
       "      <td>37</td>\n",
       "      <td>NaN</td>\n",
       "    </tr>\n",
       "    <tr>\n",
       "      <th>149</th>\n",
       "      <td>150</td>\n",
       "      <td>subaru dl</td>\n",
       "      <td>0</td>\n",
       "      <td>173.6</td>\n",
       "      <td>65.4</td>\n",
       "      <td>54.9</td>\n",
       "      <td>2650</td>\n",
       "      <td>four</td>\n",
       "      <td>108.000000</td>\n",
       "      <td>111.0</td>\n",
       "      <td>23</td>\n",
       "      <td>23</td>\n",
       "      <td>NaN</td>\n",
       "    </tr>\n",
       "    <tr>\n",
       "      <th>181</th>\n",
       "      <td>182</td>\n",
       "      <td>toyouta tercel</td>\n",
       "      <td>0</td>\n",
       "      <td>187.8</td>\n",
       "      <td>66.5</td>\n",
       "      <td>54.1</td>\n",
       "      <td>3151</td>\n",
       "      <td>six</td>\n",
       "      <td>161.000000</td>\n",
       "      <td>156.0</td>\n",
       "      <td>19</td>\n",
       "      <td>24</td>\n",
       "      <td>NaN</td>\n",
       "    </tr>\n",
       "    <tr>\n",
       "      <th>189</th>\n",
       "      <td>190</td>\n",
       "      <td>vw dasher</td>\n",
       "      <td>0</td>\n",
       "      <td>159.3</td>\n",
       "      <td>64.2</td>\n",
       "      <td>55.6</td>\n",
       "      <td>2254</td>\n",
       "      <td>four</td>\n",
       "      <td>109.000000</td>\n",
       "      <td>90.0</td>\n",
       "      <td>24</td>\n",
       "      <td>29</td>\n",
       "      <td>NaN</td>\n",
       "    </tr>\n",
       "  </tbody>\n",
       "</table>\n",
       "</div>"
      ],
      "text/plain": [
       "     car_ID                    CarName  fueltype  carlength  carwidth  \\\n",
       "4         5                 audi 100ls         0      176.6      66.4   \n",
       "29       30  dodge coronet custom (sw)         0      173.2      66.3   \n",
       "31       32           honda civic cvcc         0      144.6      63.9   \n",
       "52       53            mazda rx2 coupe         0      159.1      64.2   \n",
       "53       54                 mazda rx-4         0      166.8      64.2   \n",
       "59       60                  mazda 626         0      177.8      66.5   \n",
       "62       63                 mazda rx-4         0      177.8      66.5   \n",
       "67       68   buick electra 225 custom         1      190.9      70.3   \n",
       "78       79       mitsubishi outlander         0      157.3      64.4   \n",
       "84       85       mitsubishi mirage g4         0      173.2      66.3   \n",
       "87       88       mitsubishi outlander         0      172.4      65.4   \n",
       "88       89       mitsubishi mirage g4         0      172.4      65.4   \n",
       "104     105               nissan teana         0      170.7      67.9   \n",
       "123     124           plymouth valiant         0      174.6      64.6   \n",
       "136     137                 saab 99gle         0      186.6      66.5   \n",
       "137     138                   saab 99e         0      186.6      66.5   \n",
       "141     142                     subaru         0      172.0      65.4   \n",
       "149     150                  subaru dl         0      173.6      65.4   \n",
       "181     182             toyouta tercel         0      187.8      66.5   \n",
       "189     190                  vw dasher         0      159.3      64.2   \n",
       "\n",
       "     carheight  curbweight cylindernumber  enginesize  horsepower  citympg  \\\n",
       "4         54.3        2824           five  136.000000       115.0       18   \n",
       "29        50.2        2811           four  156.000000       145.0       19   \n",
       "31        50.8        1819           four   92.000000        76.0       31   \n",
       "52        54.1        1905           four   91.000000        68.0       31   \n",
       "53        54.1        1945           four   91.000000        68.0       31   \n",
       "59        53.7        2385           four  122.000000        84.0       26   \n",
       "62        55.5        2410           four  122.000000        84.0       26   \n",
       "67        56.5        3515           five  183.000000       123.0       22   \n",
       "78        50.8        2004           four   92.000000        68.0       31   \n",
       "84        50.2        2926           four  156.000000       145.0       19   \n",
       "87        51.6        2403           four  110.000000       116.0       23   \n",
       "88        51.6        2403           four  110.000000       116.0       23   \n",
       "104       49.7        3071            six  181.000000       160.0       19   \n",
       "123       59.8        2535           four  122.000000        88.0       24   \n",
       "136       56.1        2808           four  125.418848       160.0       19   \n",
       "137       56.1        2847           four  121.000000       160.0       19   \n",
       "141       52.5        2145           four  108.000000        82.0       32   \n",
       "149       54.9        2650           four  108.000000       111.0       23   \n",
       "181       54.1        3151            six  161.000000       156.0       19   \n",
       "189       55.6        2254           four  109.000000        90.0       24   \n",
       "\n",
       "     highwaympg  price  \n",
       "4            22    NaN  \n",
       "29           24    NaN  \n",
       "31           38    NaN  \n",
       "52           38    NaN  \n",
       "53           38    NaN  \n",
       "59           32    NaN  \n",
       "62           32    NaN  \n",
       "67           25    NaN  \n",
       "78           38    NaN  \n",
       "84           24    NaN  \n",
       "87           30    NaN  \n",
       "88           30    NaN  \n",
       "104          25    NaN  \n",
       "123          30    NaN  \n",
       "136          26    NaN  \n",
       "137          26    NaN  \n",
       "141          37    NaN  \n",
       "149          23    NaN  \n",
       "181          24    NaN  \n",
       "189          29    NaN  "
      ]
     },
     "execution_count": 42,
     "metadata": {},
     "output_type": "execute_result"
    }
   ],
   "source": [
    "new_df = df.loc[df.price.isna() == True]\n",
    "df = df.loc[df.price.isna() == False]\n",
    "new_df"
   ]
  },
  {
   "cell_type": "markdown",
   "metadata": {},
   "source": [
    "<div style=\"direction:rtl\"> ۴-\n",
    "تعداد خودرو‌ها به ازای تعداد سیلندر ( با استفاده از تابع value_counts): </div>"
   ]
  },
  {
   "cell_type": "code",
   "execution_count": 43,
   "metadata": {
    "scrolled": false
   },
   "outputs": [
    {
     "data": {
      "text/plain": [
       "cylindernumber\n",
       "four              143\n",
       "six                22\n",
       "five                9\n",
       "eight               5\n",
       "two                 4\n",
       "twelve              1\n",
       "three               1\n",
       "dtype: int64"
      ]
     },
     "execution_count": 43,
     "metadata": {},
     "output_type": "execute_result"
    }
   ],
   "source": [
    "df.value_counts(['cylindernumber'])"
   ]
  },
  {
   "cell_type": "markdown",
   "metadata": {},
   "source": [
    "<div style=\"direction:rtl\"> ۵-\n",
    "تعداد خودروهای بنزینی که قدرت اسب بخار بیش از ۱۰۰ دارند و مایل بر گالن آن‌ها در شهر کمتر از ۱۵ است: </div>"
   ]
  },
  {
   "cell_type": "code",
   "execution_count": 44,
   "metadata": {},
   "outputs": [
    {
     "data": {
      "text/plain": [
       "3"
      ]
     },
     "execution_count": 44,
     "metadata": {},
     "output_type": "execute_result"
    }
   ],
   "source": [
    "df[(df.fueltype == 0) & (df.horsepower > 100) & (df.citympg < 15)].shape[0]"
   ]
  },
  {
   "cell_type": "markdown",
   "metadata": {},
   "source": [
    "<div style=\"direction:rtl\"> ۶-\n",
    "میانگین قیمت خودروهای بنزینی و گازویلی به صورت vectorization ( با استفاده از تابع groupby ) : </div>\n",
    "<div style=\"direction:rtl\"> gas = 0 , diesel = 1 </div>"
   ]
  },
  {
   "cell_type": "code",
   "execution_count": 45,
   "metadata": {},
   "outputs": [
    {
     "data": {
      "text/plain": [
       "fueltype\n",
       "0    13170.738958\n",
       "1    15326.894737\n",
       "Name: price, dtype: float64"
      ]
     },
     "execution_count": 45,
     "metadata": {},
     "output_type": "execute_result"
    }
   ],
   "source": [
    "df.groupby('fueltype').price.mean()"
   ]
  },
  {
   "cell_type": "markdown",
   "metadata": {},
   "source": [
    "<div style=\"direction:rtl\"> ۷-\n",
    "میانگین قیمت خودروهای بنزینی و گازویلی بدون استفاده از vectorization:( با استفاده از حلقه for و iterate کردن روی سطر های dataframe) </div>"
   ]
  },
  {
   "cell_type": "code",
   "execution_count": 46,
   "metadata": {},
   "outputs": [
    {
     "name": "stdout",
     "output_type": "stream",
     "text": [
      "gas Mean = 13170.738957831325\n",
      "diesel Mean = 15326.894736842105\n"
     ]
    }
   ],
   "source": [
    "import math\n",
    "sum_gas = 0\n",
    "cnt_gas = 0\n",
    "sum_dis = 0\n",
    "cnt_dis = 0\n",
    "\n",
    "start_it = time.time()\n",
    "\n",
    "for index, row in df.iterrows():\n",
    "    if row['fueltype'] == 0 and math.isnan(row['price']) == False:\n",
    "        cnt_gas += 1\n",
    "        sum_gas += row['price']\n",
    "    elif row['fueltype'] == 1 and math.isnan(row['price']) == False:\n",
    "        cnt_dis += 1\n",
    "        sum_dis += row['price']\n",
    "print('gas Mean = ' + str(sum_gas / cnt_gas))\n",
    "print('diesel Mean = ' +  str(sum_dis / cnt_dis))\n",
    "\n",
    "end_it = time.time()"
   ]
  },
  {
   "cell_type": "markdown",
   "metadata": {},
   "source": [
    "<div style=\"direction:rtl\"> زمان اجرای دو حالت برنامه (با استفاده از vectorization و بدون استفاده از آن):\n",
    " </div>\n",
    " \n",
    "<div style=\"direction:rtl\"> زمان اجرای کد با استفاده از vectorization سریع تر از حالت استفاده از حلقه for است. </div>"
   ]
  },
  {
   "cell_type": "code",
   "execution_count": 47,
   "metadata": {},
   "outputs": [
    {
     "name": "stdout",
     "output_type": "stream",
     "text": [
      "Vectorization Time =  0.0016460418701171875\n",
      "Loop Time =  0.03456377983093262\n"
     ]
    }
   ],
   "source": [
    "start_panda = time.time()\n",
    "df.groupby('fueltype').price.mean()\n",
    "end_panda = time.time()\n",
    "\n",
    "print('Vectorization Time = ' , end_panda - start_panda)\n",
    "print('Loop Time = ' , end_it - start_it)"
   ]
  },
  {
   "cell_type": "markdown",
   "metadata": {},
   "source": [
    "<div style=\"direction:rtl\"> ۸-\n",
    "نمودار توزیع (histogram) هر ستون از داده: </div>\n",
    "<div style=\"direction:rtl\"> *نمودارها با اسفاده از کتاب خانه matplotlib کشیده شده‌اند. </div>"
   ]
  },
  {
   "cell_type": "code",
   "execution_count": 48,
   "metadata": {
    "scrolled": false
   },
   "outputs": [
    {
     "data": {
      "image/png": "[encoded data removed]",
      "text/plain": [
       "<Figure size 1000x700 with 10 Axes>"
      ]
     },
     "metadata": {},
     "output_type": "display_data"
    }
   ],
   "source": [
    "matplotlib.pyplot.figure(num=None, figsize=(10, 7), dpi=100, facecolor='w', edgecolor='k')\n",
    "\n",
    "matplotlib.pyplot.subplot(4 , 3 , 1)\n",
    "matplotlib.pyplot.xlabel('car_ID')\n",
    "matplotlib.pyplot.ylabel('freq')\n",
    "matplotlib.pyplot.hist(df['car_ID'])\n",
    "\n",
    "\n",
    "matplotlib.pyplot.subplot(4 , 3 , 2)\n",
    "matplotlib.pyplot.xlabel('carlength')\n",
    "matplotlib.pyplot.ylabel('freq')\n",
    "matplotlib.pyplot.hist(df['carlength'])\n",
    "\n",
    "matplotlib.pyplot.subplot(4 , 3 , 3)\n",
    "matplotlib.pyplot.xlabel('carwidth')\n",
    "matplotlib.pyplot.ylabel('freq')\n",
    "matplotlib.pyplot.hist(df['carwidth'])\n",
    "\n",
    "matplotlib.pyplot.subplot(4 , 3 , 4)\n",
    "matplotlib.pyplot.xlabel('carheight')\n",
    "matplotlib.pyplot.ylabel('freq')\n",
    "matplotlib.pyplot.hist(df['carheight'])\n",
    "\n",
    "matplotlib.pyplot.subplot(4 , 3 , 5)\n",
    "matplotlib.pyplot.xlabel('curbweight')\n",
    "matplotlib.pyplot.ylabel('freq')\n",
    "matplotlib.pyplot.hist(df['curbweight'])\n",
    "\n",
    "matplotlib.pyplot.subplot(4 , 3 , 6)\n",
    "matplotlib.pyplot.xlabel('enginesize')\n",
    "matplotlib.pyplot.ylabel('freq')\n",
    "matplotlib.pyplot.hist(df['enginesize'])\n",
    "\n",
    "matplotlib.pyplot.subplot(4 , 3 , 7)\n",
    "matplotlib.pyplot.xlabel('horsepower')\n",
    "matplotlib.pyplot.ylabel('freq')\n",
    "matplotlib.pyplot.hist(df['horsepower'])\n",
    "\n",
    "matplotlib.pyplot.subplot(4 , 3 , 8)\n",
    "matplotlib.pyplot.xlabel('citympg')\n",
    "matplotlib.pyplot.ylabel('freq')\n",
    "matplotlib.pyplot.hist(df['citympg'])\n",
    "\n",
    "matplotlib.pyplot.subplot(4 , 3 , 9)\n",
    "matplotlib.pyplot.xlabel('highwaympg')\n",
    "matplotlib.pyplot.ylabel('freq')\n",
    "matplotlib.pyplot.hist(df['highwaympg'])\n",
    "\n",
    "matplotlib.pyplot.subplot(4 , 3 , 10)\n",
    "matplotlib.pyplot.xlabel('price')\n",
    "matplotlib.pyplot.ylabel('freq')\n",
    "matplotlib.pyplot.hist(df['price'])\n",
    "\n",
    "matplotlib.pyplot.tight_layout()\n",
    "\n",
    "matplotlib.pyplot.show()"
   ]
  },
  {
   "cell_type": "markdown",
   "metadata": {},
   "source": [
    "<div style=\"direction:rtl\"> ۹-\n",
    "حذف ستون های غیر عددی و نرمال سازی ستون مربوط به price: </div>"
   ]
  },
  {
   "cell_type": "code",
   "execution_count": 49,
   "metadata": {
    "scrolled": false
   },
   "outputs": [
    {
     "data": {
      "text/html": [
       "<div>\n",
       "<style scoped>\n",
       "    .dataframe tbody tr th:only-of-type {\n",
       "        vertical-align: middle;\n",
       "    }\n",
       "\n",
       "    .dataframe tbody tr th {\n",
       "        vertical-align: top;\n",
       "    }\n",
       "\n",
       "    .dataframe thead th {\n",
       "        text-align: right;\n",
       "    }\n",
       "</style>\n",
       "<table border=\"1\" class=\"dataframe\">\n",
       "  <thead>\n",
       "    <tr style=\"text-align: right;\">\n",
       "      <th></th>\n",
       "      <th>car_ID</th>\n",
       "      <th>carlength</th>\n",
       "      <th>carwidth</th>\n",
       "      <th>carheight</th>\n",
       "      <th>curbweight</th>\n",
       "      <th>enginesize</th>\n",
       "      <th>horsepower</th>\n",
       "      <th>citympg</th>\n",
       "      <th>highwaympg</th>\n",
       "      <th>price</th>\n",
       "    </tr>\n",
       "  </thead>\n",
       "  <tbody>\n",
       "    <tr>\n",
       "      <th>0</th>\n",
       "      <td>1</td>\n",
       "      <td>168.8</td>\n",
       "      <td>64.1</td>\n",
       "      <td>48.8</td>\n",
       "      <td>2548</td>\n",
       "      <td>130.0</td>\n",
       "      <td>111.000000</td>\n",
       "      <td>21</td>\n",
       "      <td>27</td>\n",
       "      <td>0.012484</td>\n",
       "    </tr>\n",
       "    <tr>\n",
       "      <th>1</th>\n",
       "      <td>2</td>\n",
       "      <td>168.8</td>\n",
       "      <td>64.1</td>\n",
       "      <td>48.8</td>\n",
       "      <td>2548</td>\n",
       "      <td>130.0</td>\n",
       "      <td>111.000000</td>\n",
       "      <td>21</td>\n",
       "      <td>27</td>\n",
       "      <td>0.377353</td>\n",
       "    </tr>\n",
       "    <tr>\n",
       "      <th>2</th>\n",
       "      <td>3</td>\n",
       "      <td>171.2</td>\n",
       "      <td>65.5</td>\n",
       "      <td>52.4</td>\n",
       "      <td>2823</td>\n",
       "      <td>152.0</td>\n",
       "      <td>154.000000</td>\n",
       "      <td>19</td>\n",
       "      <td>26</td>\n",
       "      <td>0.377353</td>\n",
       "    </tr>\n",
       "    <tr>\n",
       "      <th>3</th>\n",
       "      <td>4</td>\n",
       "      <td>176.6</td>\n",
       "      <td>66.2</td>\n",
       "      <td>54.3</td>\n",
       "      <td>2337</td>\n",
       "      <td>109.0</td>\n",
       "      <td>105.747253</td>\n",
       "      <td>24</td>\n",
       "      <td>30</td>\n",
       "      <td>0.067731</td>\n",
       "    </tr>\n",
       "    <tr>\n",
       "      <th>5</th>\n",
       "      <td>6</td>\n",
       "      <td>177.3</td>\n",
       "      <td>66.3</td>\n",
       "      <td>53.1</td>\n",
       "      <td>2507</td>\n",
       "      <td>136.0</td>\n",
       "      <td>110.000000</td>\n",
       "      <td>19</td>\n",
       "      <td>25</td>\n",
       "      <td>0.225577</td>\n",
       "    </tr>\n",
       "    <tr>\n",
       "      <th>...</th>\n",
       "      <td>...</td>\n",
       "      <td>...</td>\n",
       "      <td>...</td>\n",
       "      <td>...</td>\n",
       "      <td>...</td>\n",
       "      <td>...</td>\n",
       "      <td>...</td>\n",
       "      <td>...</td>\n",
       "      <td>...</td>\n",
       "      <td>...</td>\n",
       "    </tr>\n",
       "    <tr>\n",
       "      <th>200</th>\n",
       "      <td>201</td>\n",
       "      <td>188.8</td>\n",
       "      <td>68.9</td>\n",
       "      <td>55.5</td>\n",
       "      <td>2952</td>\n",
       "      <td>141.0</td>\n",
       "      <td>114.000000</td>\n",
       "      <td>23</td>\n",
       "      <td>28</td>\n",
       "      <td>0.419243</td>\n",
       "    </tr>\n",
       "    <tr>\n",
       "      <th>201</th>\n",
       "      <td>202</td>\n",
       "      <td>188.8</td>\n",
       "      <td>68.8</td>\n",
       "      <td>55.5</td>\n",
       "      <td>3049</td>\n",
       "      <td>141.0</td>\n",
       "      <td>160.000000</td>\n",
       "      <td>19</td>\n",
       "      <td>25</td>\n",
       "      <td>0.686368</td>\n",
       "    </tr>\n",
       "    <tr>\n",
       "      <th>202</th>\n",
       "      <td>203</td>\n",
       "      <td>188.8</td>\n",
       "      <td>68.9</td>\n",
       "      <td>55.5</td>\n",
       "      <td>3012</td>\n",
       "      <td>173.0</td>\n",
       "      <td>134.000000</td>\n",
       "      <td>18</td>\n",
       "      <td>23</td>\n",
       "      <td>0.982634</td>\n",
       "    </tr>\n",
       "    <tr>\n",
       "      <th>203</th>\n",
       "      <td>204</td>\n",
       "      <td>188.8</td>\n",
       "      <td>68.9</td>\n",
       "      <td>55.5</td>\n",
       "      <td>3217</td>\n",
       "      <td>145.0</td>\n",
       "      <td>106.000000</td>\n",
       "      <td>26</td>\n",
       "      <td>27</td>\n",
       "      <td>1.102234</td>\n",
       "    </tr>\n",
       "    <tr>\n",
       "      <th>204</th>\n",
       "      <td>205</td>\n",
       "      <td>188.8</td>\n",
       "      <td>68.9</td>\n",
       "      <td>55.5</td>\n",
       "      <td>3062</td>\n",
       "      <td>141.0</td>\n",
       "      <td>114.000000</td>\n",
       "      <td>19</td>\n",
       "      <td>25</td>\n",
       "      <td>1.121054</td>\n",
       "    </tr>\n",
       "  </tbody>\n",
       "</table>\n",
       "<p>185 rows × 10 columns</p>\n",
       "</div>"
      ],
      "text/plain": [
       "     car_ID  carlength  carwidth  carheight  curbweight  enginesize  \\\n",
       "0         1      168.8      64.1       48.8        2548       130.0   \n",
       "1         2      168.8      64.1       48.8        2548       130.0   \n",
       "2         3      171.2      65.5       52.4        2823       152.0   \n",
       "3         4      176.6      66.2       54.3        2337       109.0   \n",
       "5         6      177.3      66.3       53.1        2507       136.0   \n",
       "..      ...        ...       ...        ...         ...         ...   \n",
       "200     201      188.8      68.9       55.5        2952       141.0   \n",
       "201     202      188.8      68.8       55.5        3049       141.0   \n",
       "202     203      188.8      68.9       55.5        3012       173.0   \n",
       "203     204      188.8      68.9       55.5        3217       145.0   \n",
       "204     205      188.8      68.9       55.5        3062       141.0   \n",
       "\n",
       "     horsepower  citympg  highwaympg     price  \n",
       "0    111.000000       21          27  0.012484  \n",
       "1    111.000000       21          27  0.377353  \n",
       "2    154.000000       19          26  0.377353  \n",
       "3    105.747253       24          30  0.067731  \n",
       "5    110.000000       19          25  0.225577  \n",
       "..          ...      ...         ...       ...  \n",
       "200  114.000000       23          28  0.419243  \n",
       "201  160.000000       19          25  0.686368  \n",
       "202  134.000000       18          23  0.982634  \n",
       "203  106.000000       26          27  1.102234  \n",
       "204  114.000000       19          25  1.121054  \n",
       "\n",
       "[185 rows x 10 columns]"
      ]
     },
     "execution_count": 49,
     "metadata": {},
     "output_type": "execute_result"
    }
   ],
   "source": [
    "calc_df = df[['car_ID' , 'carlength' , 'carwidth' , 'carheight' , 'curbweight' , 'enginesize' , 'horsepower' , 'citympg' , 'highwaympg' , 'price']]\n",
    "calc_df = calc_df.assign(price = (calc_df['price'] - calc_df['price'].mean()) / calc_df['price'].std())\n",
    "calc_df"
   ]
  },
  {
   "cell_type": "markdown",
   "metadata": {},
   "source": [
    " <div style=\"direction:rtl\"> ۱۰-\n",
    " الف)\n",
    " نمودار scatter به ازای تمام ویژگی ها:\n",
    "  </div>\n",
    "  \n",
    "<div style=\"direction:rtl\"> *نمودارها با اسفاده از کتاب خانه matplotlib کشیده شده‌اند.</div>\n",
    "\n",
    "<div style=\"direction:rtl\">   ۱) به ازای car_ID </div>"
   ]
  },
  {
   "cell_type": "code",
   "execution_count": 50,
   "metadata": {
    "scrolled": true
   },
   "outputs": [
    {
     "data": {
      "text/plain": [
       "<matplotlib.collections.PathCollection at 0x11f550cf8>"
      ]
     },
     "execution_count": 50,
     "metadata": {},
     "output_type": "execute_result"
    },
    {
     "data": {
      "image/png": "[encoded data removed]",
      "text/plain": [
       "<Figure size 432x288 with 1 Axes>"
      ]
     },
     "metadata": {
      "needs_background": "light"
     },
     "output_type": "display_data"
    }
   ],
   "source": [
    "matplotlib.pyplot.xlabel('car_ID')\n",
    "matplotlib.pyplot.ylabel('price')\n",
    "matplotlib.pyplot.scatter(calc_df['car_ID'] , calc_df['price'])"
   ]
  },
  {
   "cell_type": "markdown",
   "metadata": {},
   "source": [
    "<div style=\"direction:rtl\"> ۲) به ازای carlength </div>"
   ]
  },
  {
   "cell_type": "code",
   "execution_count": 51,
   "metadata": {},
   "outputs": [
    {
     "data": {
      "text/plain": [
       "<matplotlib.collections.PathCollection at 0x11f621748>"
      ]
     },
     "execution_count": 51,
     "metadata": {},
     "output_type": "execute_result"
    },
    {
     "data": {
      "image/png": "[encoded data removed]",
      "text/plain": [
       "<Figure size 432x288 with 1 Axes>"
      ]
     },
     "metadata": {
      "needs_background": "light"
     },
     "output_type": "display_data"
    }
   ],
   "source": [
    "matplotlib.pyplot.xlabel('canlength')\n",
    "matplotlib.pyplot.ylabel('price')\n",
    "matplotlib.pyplot.scatter(calc_df['carlength'] , calc_df['price'])"
   ]
  },
  {
   "cell_type": "markdown",
   "metadata": {},
   "source": [
    "<div style=\"direction:rtl\"> ۳) به ازای carwidth\n",
    "</div>"
   ]
  },
  {
   "cell_type": "code",
   "execution_count": 52,
   "metadata": {},
   "outputs": [
    {
     "data": {
      "text/plain": [
       "<matplotlib.collections.PathCollection at 0x120291588>"
      ]
     },
     "execution_count": 52,
     "metadata": {},
     "output_type": "execute_result"
    },
    {
     "data": {
      "image/png": "[encoded data removed]",
      "text/plain": [
       "<Figure size 432x288 with 1 Axes>"
      ]
     },
     "metadata": {
      "needs_background": "light"
     },
     "output_type": "display_data"
    }
   ],
   "source": [
    "matplotlib.pyplot.xlabel('carwidth')\n",
    "matplotlib.pyplot.ylabel('price')\n",
    "matplotlib.pyplot.scatter(calc_df['carwidth'] , calc_df['price'])"
   ]
  },
  {
   "cell_type": "markdown",
   "metadata": {},
   "source": [
    "<div style=\"direction:rtl\"> ۴) به ازای carheight\n",
    "</div>"
   ]
  },
  {
   "cell_type": "code",
   "execution_count": 53,
   "metadata": {},
   "outputs": [
    {
     "data": {
      "text/plain": [
       "<matplotlib.collections.PathCollection at 0x120379898>"
      ]
     },
     "execution_count": 53,
     "metadata": {},
     "output_type": "execute_result"
    },
    {
     "data": {
      "image/png": "[encoded data removed]",
      "text/plain": [
       "<Figure size 432x288 with 1 Axes>"
      ]
     },
     "metadata": {
      "needs_background": "light"
     },
     "output_type": "display_data"
    }
   ],
   "source": [
    "matplotlib.pyplot.xlabel('carheight')\n",
    "matplotlib.pyplot.ylabel('price')\n",
    "matplotlib.pyplot.scatter(calc_df['carheight'] , calc_df['price'])"
   ]
  },
  {
   "cell_type": "markdown",
   "metadata": {},
   "source": [
    "<div style=\"direction:rtl\"> ۵) به ازای curbweight\n",
    "</div>"
   ]
  },
  {
   "cell_type": "code",
   "execution_count": 54,
   "metadata": {
    "scrolled": true
   },
   "outputs": [
    {
     "data": {
      "text/plain": [
       "<matplotlib.collections.PathCollection at 0x11f585438>"
      ]
     },
     "execution_count": 54,
     "metadata": {},
     "output_type": "execute_result"
    },
    {
     "data": {
      "image/png": "[encoded data removed]",
      "text/plain": [
       "<Figure size 432x288 with 1 Axes>"
      ]
     },
     "metadata": {
      "needs_background": "light"
     },
     "output_type": "display_data"
    }
   ],
   "source": [
    "matplotlib.pyplot.xlabel('curbweight')\n",
    "matplotlib.pyplot.ylabel('price')\n",
    "matplotlib.pyplot.scatter(calc_df['curbweight'] , calc_df['price'])"
   ]
  },
  {
   "cell_type": "markdown",
   "metadata": {},
   "source": [
    "<div style=\"direction:rtl\"> ۶) به ازای enginesize\n",
    "</div>"
   ]
  },
  {
   "cell_type": "code",
   "execution_count": 55,
   "metadata": {
    "scrolled": true
   },
   "outputs": [
    {
     "data": {
      "text/plain": [
       "<matplotlib.collections.PathCollection at 0x11eb07b38>"
      ]
     },
     "execution_count": 55,
     "metadata": {},
     "output_type": "execute_result"
    },
    {
     "data": {
      "image/png": "[encoded data removed]",
      "text/plain": [
       "<Figure size 432x288 with 1 Axes>"
      ]
     },
     "metadata": {
      "needs_background": "light"
     },
     "output_type": "display_data"
    }
   ],
   "source": [
    "matplotlib.pyplot.xlabel('enginesize')\n",
    "matplotlib.pyplot.ylabel('price')\n",
    "matplotlib.pyplot.scatter(calc_df['enginesize'] , calc_df['price'])"
   ]
  },
  {
   "cell_type": "markdown",
   "metadata": {},
   "source": [
    "<div style=\"direction:rtl\"> ۷) به ازای horsepower\n",
    "</div>"
   ]
  },
  {
   "cell_type": "code",
   "execution_count": 56,
   "metadata": {
    "scrolled": true
   },
   "outputs": [
    {
     "data": {
      "text/plain": [
       "<matplotlib.collections.PathCollection at 0x11f139128>"
      ]
     },
     "execution_count": 56,
     "metadata": {},
     "output_type": "execute_result"
    },
    {
     "data": {
      "image/png": "[encoded data removed]",
      "text/plain": [
       "<Figure size 432x288 with 1 Axes>"
      ]
     },
     "metadata": {
      "needs_background": "light"
     },
     "output_type": "display_data"
    }
   ],
   "source": [
    "matplotlib.pyplot.xlabel('horsepower')\n",
    "matplotlib.pyplot.ylabel('price')\n",
    "matplotlib.pyplot.scatter(calc_df['horsepower'] , calc_df['price'])"
   ]
  },
  {
   "cell_type": "markdown",
   "metadata": {},
   "source": [
    "<div style=\"direction:rtl\"> ۸) به ازای citympg\n",
    "</div>"
   ]
  },
  {
   "cell_type": "code",
   "execution_count": 57,
   "metadata": {
    "scrolled": true
   },
   "outputs": [
    {
     "data": {
      "text/plain": [
       "<matplotlib.collections.PathCollection at 0x11eab84e0>"
      ]
     },
     "execution_count": 57,
     "metadata": {},
     "output_type": "execute_result"
    },
    {
     "data": {
      "image/png": "[encoded data removed]",
      "text/plain": [
       "<Figure size 432x288 with 1 Axes>"
      ]
     },
     "metadata": {
      "needs_background": "light"
     },
     "output_type": "display_data"
    }
   ],
   "source": [
    "matplotlib.pyplot.xlabel('citympg')\n",
    "matplotlib.pyplot.ylabel('price')\n",
    "matplotlib.pyplot.scatter(calc_df['citympg'] , calc_df['price'])"
   ]
  },
  {
   "cell_type": "markdown",
   "metadata": {},
   "source": [
    "<div style=\"direction:rtl\"> ۹) به ازای highwaympg\n",
    "</div>"
   ]
  },
  {
   "cell_type": "code",
   "execution_count": 58,
   "metadata": {},
   "outputs": [
    {
     "data": {
      "text/plain": [
       "<matplotlib.collections.PathCollection at 0x11f192fd0>"
      ]
     },
     "execution_count": 58,
     "metadata": {},
     "output_type": "execute_result"
    },
    {
     "data": {
      "image/png": "[encoded data removed]",
      "text/plain": [
       "<Figure size 432x288 with 1 Axes>"
      ]
     },
     "metadata": {
      "needs_background": "light"
     },
     "output_type": "display_data"
    }
   ],
   "source": [
    "matplotlib.pyplot.xlabel('highwaympg')\n",
    "matplotlib.pyplot.ylabel('price')\n",
    "matplotlib.pyplot.scatter(calc_df['highwaympg'] , calc_df['price'])"
   ]
  },
  {
   "cell_type": "markdown",
   "metadata": {},
   "source": [
    "<div style=\"direction:rtl\"> ب) ویژگی اتنخاب شده : curbweight </div>\n",
    "\n",
    "<div style=\"direction:rtl\"> به این صورت این ویژگی را انتخاب می‌کنیم که ابتدا با استفاده از تابع corr، ماتریس correlation را به دست می‌آوریم. حال با توجه به این که در ستون مربوط به price، سطر curbweight بیش‌ترین مقدار را دارد، curbweight را انتخاب می‌کنیم. </div>"
   ]
  },
  {
   "cell_type": "code",
   "execution_count": 59,
   "metadata": {
    "scrolled": true
   },
   "outputs": [
    {
     "data": {
      "text/html": [
       "<div>\n",
       "<style scoped>\n",
       "    .dataframe tbody tr th:only-of-type {\n",
       "        vertical-align: middle;\n",
       "    }\n",
       "\n",
       "    .dataframe tbody tr th {\n",
       "        vertical-align: top;\n",
       "    }\n",
       "\n",
       "    .dataframe thead th {\n",
       "        text-align: right;\n",
       "    }\n",
       "</style>\n",
       "<table border=\"1\" class=\"dataframe\">\n",
       "  <thead>\n",
       "    <tr style=\"text-align: right;\">\n",
       "      <th></th>\n",
       "      <th>car_ID</th>\n",
       "      <th>carlength</th>\n",
       "      <th>carwidth</th>\n",
       "      <th>carheight</th>\n",
       "      <th>curbweight</th>\n",
       "      <th>enginesize</th>\n",
       "      <th>horsepower</th>\n",
       "      <th>citympg</th>\n",
       "      <th>highwaympg</th>\n",
       "      <th>price</th>\n",
       "    </tr>\n",
       "  </thead>\n",
       "  <tbody>\n",
       "    <tr>\n",
       "      <th>car_ID</th>\n",
       "      <td>1.000000</td>\n",
       "      <td>0.161679</td>\n",
       "      <td>0.057758</td>\n",
       "      <td>0.248575</td>\n",
       "      <td>0.062260</td>\n",
       "      <td>-0.008130</td>\n",
       "      <td>-0.038238</td>\n",
       "      <td>0.025332</td>\n",
       "      <td>0.024365</td>\n",
       "      <td>-0.125255</td>\n",
       "    </tr>\n",
       "    <tr>\n",
       "      <th>carlength</th>\n",
       "      <td>0.161679</td>\n",
       "      <td>1.000000</td>\n",
       "      <td>0.849517</td>\n",
       "      <td>0.497498</td>\n",
       "      <td>0.884480</td>\n",
       "      <td>0.640710</td>\n",
       "      <td>0.483501</td>\n",
       "      <td>-0.677509</td>\n",
       "      <td>-0.712908</td>\n",
       "      <td>0.683104</td>\n",
       "    </tr>\n",
       "    <tr>\n",
       "      <th>carwidth</th>\n",
       "      <td>0.057758</td>\n",
       "      <td>0.849517</td>\n",
       "      <td>1.000000</td>\n",
       "      <td>0.297065</td>\n",
       "      <td>0.868184</td>\n",
       "      <td>0.658163</td>\n",
       "      <td>0.572715</td>\n",
       "      <td>-0.647681</td>\n",
       "      <td>-0.682932</td>\n",
       "      <td>0.755490</td>\n",
       "    </tr>\n",
       "    <tr>\n",
       "      <th>carheight</th>\n",
       "      <td>0.248575</td>\n",
       "      <td>0.497498</td>\n",
       "      <td>0.297065</td>\n",
       "      <td>1.000000</td>\n",
       "      <td>0.309575</td>\n",
       "      <td>0.057823</td>\n",
       "      <td>-0.148700</td>\n",
       "      <td>-0.048037</td>\n",
       "      <td>-0.107775</td>\n",
       "      <td>0.111783</td>\n",
       "    </tr>\n",
       "    <tr>\n",
       "      <th>curbweight</th>\n",
       "      <td>0.062260</td>\n",
       "      <td>0.884480</td>\n",
       "      <td>0.868184</td>\n",
       "      <td>0.309575</td>\n",
       "      <td>1.000000</td>\n",
       "      <td>0.788655</td>\n",
       "      <td>0.682691</td>\n",
       "      <td>-0.754051</td>\n",
       "      <td>-0.793611</td>\n",
       "      <td>0.833602</td>\n",
       "    </tr>\n",
       "    <tr>\n",
       "      <th>enginesize</th>\n",
       "      <td>-0.008130</td>\n",
       "      <td>0.640710</td>\n",
       "      <td>0.658163</td>\n",
       "      <td>0.057823</td>\n",
       "      <td>0.788655</td>\n",
       "      <td>1.000000</td>\n",
       "      <td>0.756580</td>\n",
       "      <td>-0.606113</td>\n",
       "      <td>-0.619367</td>\n",
       "      <td>0.794026</td>\n",
       "    </tr>\n",
       "    <tr>\n",
       "      <th>horsepower</th>\n",
       "      <td>-0.038238</td>\n",
       "      <td>0.483501</td>\n",
       "      <td>0.572715</td>\n",
       "      <td>-0.148700</td>\n",
       "      <td>0.682691</td>\n",
       "      <td>0.756580</td>\n",
       "      <td>1.000000</td>\n",
       "      <td>-0.733795</td>\n",
       "      <td>-0.696293</td>\n",
       "      <td>0.769182</td>\n",
       "    </tr>\n",
       "    <tr>\n",
       "      <th>citympg</th>\n",
       "      <td>0.025332</td>\n",
       "      <td>-0.677509</td>\n",
       "      <td>-0.647681</td>\n",
       "      <td>-0.048037</td>\n",
       "      <td>-0.754051</td>\n",
       "      <td>-0.606113</td>\n",
       "      <td>-0.733795</td>\n",
       "      <td>1.000000</td>\n",
       "      <td>0.972525</td>\n",
       "      <td>-0.687151</td>\n",
       "    </tr>\n",
       "    <tr>\n",
       "      <th>highwaympg</th>\n",
       "      <td>0.024365</td>\n",
       "      <td>-0.712908</td>\n",
       "      <td>-0.682932</td>\n",
       "      <td>-0.107775</td>\n",
       "      <td>-0.793611</td>\n",
       "      <td>-0.619367</td>\n",
       "      <td>-0.696293</td>\n",
       "      <td>0.972525</td>\n",
       "      <td>1.000000</td>\n",
       "      <td>-0.698832</td>\n",
       "    </tr>\n",
       "    <tr>\n",
       "      <th>price</th>\n",
       "      <td>-0.125255</td>\n",
       "      <td>0.683104</td>\n",
       "      <td>0.755490</td>\n",
       "      <td>0.111783</td>\n",
       "      <td>0.833602</td>\n",
       "      <td>0.794026</td>\n",
       "      <td>0.769182</td>\n",
       "      <td>-0.687151</td>\n",
       "      <td>-0.698832</td>\n",
       "      <td>1.000000</td>\n",
       "    </tr>\n",
       "  </tbody>\n",
       "</table>\n",
       "</div>"
      ],
      "text/plain": [
       "              car_ID  carlength  carwidth  carheight  curbweight  enginesize  \\\n",
       "car_ID      1.000000   0.161679  0.057758   0.248575    0.062260   -0.008130   \n",
       "carlength   0.161679   1.000000  0.849517   0.497498    0.884480    0.640710   \n",
       "carwidth    0.057758   0.849517  1.000000   0.297065    0.868184    0.658163   \n",
       "carheight   0.248575   0.497498  0.297065   1.000000    0.309575    0.057823   \n",
       "curbweight  0.062260   0.884480  0.868184   0.309575    1.000000    0.788655   \n",
       "enginesize -0.008130   0.640710  0.658163   0.057823    0.788655    1.000000   \n",
       "horsepower -0.038238   0.483501  0.572715  -0.148700    0.682691    0.756580   \n",
       "citympg     0.025332  -0.677509 -0.647681  -0.048037   -0.754051   -0.606113   \n",
       "highwaympg  0.024365  -0.712908 -0.682932  -0.107775   -0.793611   -0.619367   \n",
       "price      -0.125255   0.683104  0.755490   0.111783    0.833602    0.794026   \n",
       "\n",
       "            horsepower   citympg  highwaympg     price  \n",
       "car_ID       -0.038238  0.025332    0.024365 -0.125255  \n",
       "carlength     0.483501 -0.677509   -0.712908  0.683104  \n",
       "carwidth      0.572715 -0.647681   -0.682932  0.755490  \n",
       "carheight    -0.148700 -0.048037   -0.107775  0.111783  \n",
       "curbweight    0.682691 -0.754051   -0.793611  0.833602  \n",
       "enginesize    0.756580 -0.606113   -0.619367  0.794026  \n",
       "horsepower    1.000000 -0.733795   -0.696293  0.769182  \n",
       "citympg      -0.733795  1.000000    0.972525 -0.687151  \n",
       "highwaympg   -0.696293  0.972525    1.000000 -0.698832  \n",
       "price         0.769182 -0.687151   -0.698832  1.000000  "
      ]
     },
     "execution_count": 59,
     "metadata": {},
     "output_type": "execute_result"
    }
   ],
   "source": [
    "calc_df.corr()"
   ]
  },
  {
   "cell_type": "markdown",
   "metadata": {},
   "source": [
    "<div style=\"direction:rtl\"> ۱۱-\n",
    "تشکیل دیتا فریم جدید بر اساس ویژگی انتخاب شده: </div>"
   ]
  },
  {
   "cell_type": "code",
   "execution_count": 60,
   "metadata": {
    "scrolled": false
   },
   "outputs": [
    {
     "data": {
      "text/html": [
       "<div>\n",
       "<style scoped>\n",
       "    .dataframe tbody tr th:only-of-type {\n",
       "        vertical-align: middle;\n",
       "    }\n",
       "\n",
       "    .dataframe tbody tr th {\n",
       "        vertical-align: top;\n",
       "    }\n",
       "\n",
       "    .dataframe thead th {\n",
       "        text-align: right;\n",
       "    }\n",
       "</style>\n",
       "<table border=\"1\" class=\"dataframe\">\n",
       "  <thead>\n",
       "    <tr style=\"text-align: right;\">\n",
       "      <th></th>\n",
       "      <th>curbweight</th>\n",
       "      <th>price</th>\n",
       "    </tr>\n",
       "  </thead>\n",
       "  <tbody>\n",
       "    <tr>\n",
       "      <th>0</th>\n",
       "      <td>2548</td>\n",
       "      <td>0.012484</td>\n",
       "    </tr>\n",
       "    <tr>\n",
       "      <th>1</th>\n",
       "      <td>2548</td>\n",
       "      <td>0.377353</td>\n",
       "    </tr>\n",
       "    <tr>\n",
       "      <th>2</th>\n",
       "      <td>2823</td>\n",
       "      <td>0.377353</td>\n",
       "    </tr>\n",
       "    <tr>\n",
       "      <th>3</th>\n",
       "      <td>2337</td>\n",
       "      <td>0.067731</td>\n",
       "    </tr>\n",
       "    <tr>\n",
       "      <th>5</th>\n",
       "      <td>2507</td>\n",
       "      <td>0.225577</td>\n",
       "    </tr>\n",
       "    <tr>\n",
       "      <th>...</th>\n",
       "      <td>...</td>\n",
       "      <td>...</td>\n",
       "    </tr>\n",
       "    <tr>\n",
       "      <th>200</th>\n",
       "      <td>2952</td>\n",
       "      <td>0.419243</td>\n",
       "    </tr>\n",
       "    <tr>\n",
       "      <th>201</th>\n",
       "      <td>3049</td>\n",
       "      <td>0.686368</td>\n",
       "    </tr>\n",
       "    <tr>\n",
       "      <th>202</th>\n",
       "      <td>3012</td>\n",
       "      <td>0.982634</td>\n",
       "    </tr>\n",
       "    <tr>\n",
       "      <th>203</th>\n",
       "      <td>3217</td>\n",
       "      <td>1.102234</td>\n",
       "    </tr>\n",
       "    <tr>\n",
       "      <th>204</th>\n",
       "      <td>3062</td>\n",
       "      <td>1.121054</td>\n",
       "    </tr>\n",
       "  </tbody>\n",
       "</table>\n",
       "<p>185 rows × 2 columns</p>\n",
       "</div>"
      ],
      "text/plain": [
       "     curbweight     price\n",
       "0          2548  0.012484\n",
       "1          2548  0.377353\n",
       "2          2823  0.377353\n",
       "3          2337  0.067731\n",
       "5          2507  0.225577\n",
       "..          ...       ...\n",
       "200        2952  0.419243\n",
       "201        3049  0.686368\n",
       "202        3012  0.982634\n",
       "203        3217  1.102234\n",
       "204        3062  1.121054\n",
       "\n",
       "[185 rows x 2 columns]"
      ]
     },
     "execution_count": 60,
     "metadata": {},
     "output_type": "execute_result"
    }
   ],
   "source": [
    "final_df = calc_df[['curbweight' , 'price']]\n",
    "final_df"
   ]
  },
  {
   "cell_type": "markdown",
   "metadata": {},
   "source": [
    "<div style=\"direction:rtl\"> ۱۲-\n",
    "ابتدا ضرایب تابع تخمین‌گر را به روش normal equation به دست می‌آوریم و آن ها را در theta ذخیره می‌کنیم: </div>\n",
    "\n",
    "<div style=\"direction:rtl\"> *توضیحات مربوط به روش normal equation در این<a href=\"https://www.geeksforgeeks.org/ml-normal-equation-in-linear-regression\"> لینک </a> موجود است.</div>\n",
    "<br></br>\n",
    "<div style=\"direction:rtl\"> با توجه به روش normal equation می‌توان ضرایب را با رابطه زیر به دست آورد: </div>"
   ]
  },
  {
   "cell_type": "markdown",
   "metadata": {},
   "source": [
    "$\\theta = (X ^ {T} X) ^ {-1} . (X ^ {T} Y)$"
   ]
  },
  {
   "cell_type": "code",
   "execution_count": 61,
   "metadata": {},
   "outputs": [
    {
     "data": {
      "text/plain": [
       "th0   -4.035820\n",
       "th1    0.001578\n",
       "dtype: float64"
      ]
     },
     "execution_count": 61,
     "metadata": {},
     "output_type": "execute_result"
    }
   ],
   "source": [
    "import numpy\n",
    "X = pandas.DataFrame()\n",
    "X = X.assign(th0 = final_df['curbweight'] * 0 + 1 , th1 = final_df['curbweight'])\n",
    "theta = (X.T).dot(X)\n",
    "theta = pandas.DataFrame(numpy.linalg.pinv(theta.values), theta.columns, theta.index)\n",
    "theta = theta.dot(X.T)\n",
    "theta = theta.dot(final_df['price'])\n",
    "theta"
   ]
  },
  {
   "cell_type": "markdown",
   "metadata": {},
   "source": [
    "<div style=\"direction:rtl\"> حال با استفاده از ضرایب به دست آمده ، مقدار price را به ازای ورودی ها (curbweight) به دست می‌آوریم. سپس مقدار خطا را با استفاده از فرمول داده شده برای تابع هزینه به دست می‌آوریم: </div>"
   ]
  },
  {
   "cell_type": "code",
   "execution_count": 62,
   "metadata": {},
   "outputs": [
    {
     "name": "stdout",
     "output_type": "stream",
     "text": [
      "MSE = 0.30345776161379706\n"
     ]
    }
   ],
   "source": [
    "evaluated_df = theta['th1'] * final_df['curbweight']\n",
    "evaluated_df += theta['th0']\n",
    "\n",
    "MSE = (final_df['price'] - evaluated_df) * (final_df['price'] - evaluated_df) / (final_df.shape[0])\n",
    "MSE = MSE.sum()\n",
    "print('MSE = ' + str(MSE))"
   ]
  },
  {
   "cell_type": "markdown",
   "metadata": {},
   "source": [
    "<div style=\"direction:rtl\"> ۱۳- نمودار تابع تخمین گر ( خط قرمز رنگ ) به همراه scatter plot ویژگی انتخاب شده ( curbweight ) :\n",
    "</div>"
   ]
  },
  {
   "cell_type": "code",
   "execution_count": 63,
   "metadata": {
    "scrolled": false
   },
   "outputs": [
    {
     "data": {
      "image/png": "[encoded data removed]",
      "text/plain": [
       "<Figure size 432x288 with 1 Axes>"
      ]
     },
     "metadata": {
      "needs_background": "light"
     },
     "output_type": "display_data"
    }
   ],
   "source": [
    "matplotlib.pyplot.xlabel('curbweight')\n",
    "matplotlib.pyplot.ylabel('price')\n",
    "matplotlib.pyplot.scatter(calc_df['curbweight'] , calc_df['price'])\n",
    "matplotlib.pyplot.plot(calc_df['curbweight'] , evaluated_df , 'r')\n",
    "matplotlib.pyplot.show()"
   ]
  },
  {
   "cell_type": "markdown",
   "metadata": {},
   "source": [
    "<div style=\"direction:rtl\"> خط قرمز نشان دهنده‌ی تخمین خطی ما از رابطه price با curbweight است. خط به دست آمده کمترین خطا را نسبت به سایر خط های ممکن دارد و معادله‌ی آن برابر است با:\n",
    "</div>\n"
   ]
  },
  {
   "cell_type": "markdown",
   "metadata": {},
   "source": [
    "$price = 0.001578 \\times curbweight - 4.035820$ , $\\theta _{0} = -4.035820$ , $\\theta _{1} = 0.001578$"
   ]
  },
  {
   "cell_type": "markdown",
   "metadata": {},
   "source": [
    "<div style=\"direction:rtl\"> با اینکه این خط رابطه بین price و curbweight را دقیقا نشان نمی‌دهد اما یک تقریب خطی مناسب از آن را در اختیار ما می‌گذارد. </div>"
   ]
  },
  {
   "cell_type": "markdown",
   "metadata": {},
   "source": [
    "<div style=\"direction:rtl\"> ۱۴- تخمین قیمت در دیتا فریمی که در بخش ۳ جدا کرده بودیم:\n",
    "</div>"
   ]
  },
  {
   "cell_type": "code",
   "execution_count": 64,
   "metadata": {
    "scrolled": false
   },
   "outputs": [
    {
     "data": {
      "text/html": [
       "<div>\n",
       "<style scoped>\n",
       "    .dataframe tbody tr th:only-of-type {\n",
       "        vertical-align: middle;\n",
       "    }\n",
       "\n",
       "    .dataframe tbody tr th {\n",
       "        vertical-align: top;\n",
       "    }\n",
       "\n",
       "    .dataframe thead th {\n",
       "        text-align: right;\n",
       "    }\n",
       "</style>\n",
       "<table border=\"1\" class=\"dataframe\">\n",
       "  <thead>\n",
       "    <tr style=\"text-align: right;\">\n",
       "      <th></th>\n",
       "      <th>car_ID</th>\n",
       "      <th>price</th>\n",
       "    </tr>\n",
       "  </thead>\n",
       "  <tbody>\n",
       "    <tr>\n",
       "      <th>4</th>\n",
       "      <td>5</td>\n",
       "      <td>0.421088</td>\n",
       "    </tr>\n",
       "    <tr>\n",
       "      <th>29</th>\n",
       "      <td>30</td>\n",
       "      <td>0.400571</td>\n",
       "    </tr>\n",
       "    <tr>\n",
       "      <th>31</th>\n",
       "      <td>32</td>\n",
       "      <td>-1.165029</td>\n",
       "    </tr>\n",
       "    <tr>\n",
       "      <th>52</th>\n",
       "      <td>53</td>\n",
       "      <td>-1.029301</td>\n",
       "    </tr>\n",
       "    <tr>\n",
       "      <th>53</th>\n",
       "      <td>54</td>\n",
       "      <td>-0.966172</td>\n",
       "    </tr>\n",
       "    <tr>\n",
       "      <th>59</th>\n",
       "      <td>60</td>\n",
       "      <td>-0.271753</td>\n",
       "    </tr>\n",
       "    <tr>\n",
       "      <th>62</th>\n",
       "      <td>63</td>\n",
       "      <td>-0.232298</td>\n",
       "    </tr>\n",
       "    <tr>\n",
       "      <th>67</th>\n",
       "      <td>68</td>\n",
       "      <td>1.511641</td>\n",
       "    </tr>\n",
       "    <tr>\n",
       "      <th>78</th>\n",
       "      <td>79</td>\n",
       "      <td>-0.873057</td>\n",
       "    </tr>\n",
       "    <tr>\n",
       "      <th>84</th>\n",
       "      <td>85</td>\n",
       "      <td>0.582066</td>\n",
       "    </tr>\n",
       "    <tr>\n",
       "      <th>87</th>\n",
       "      <td>88</td>\n",
       "      <td>-0.243345</td>\n",
       "    </tr>\n",
       "    <tr>\n",
       "      <th>88</th>\n",
       "      <td>89</td>\n",
       "      <td>-0.243345</td>\n",
       "    </tr>\n",
       "    <tr>\n",
       "      <th>104</th>\n",
       "      <td>105</td>\n",
       "      <td>0.810909</td>\n",
       "    </tr>\n",
       "    <tr>\n",
       "      <th>123</th>\n",
       "      <td>124</td>\n",
       "      <td>-0.035020</td>\n",
       "    </tr>\n",
       "    <tr>\n",
       "      <th>136</th>\n",
       "      <td>137</td>\n",
       "      <td>0.395836</td>\n",
       "    </tr>\n",
       "    <tr>\n",
       "      <th>137</th>\n",
       "      <td>138</td>\n",
       "      <td>0.457387</td>\n",
       "    </tr>\n",
       "    <tr>\n",
       "      <th>141</th>\n",
       "      <td>142</td>\n",
       "      <td>-0.650527</td>\n",
       "    </tr>\n",
       "    <tr>\n",
       "      <th>149</th>\n",
       "      <td>150</td>\n",
       "      <td>0.146476</td>\n",
       "    </tr>\n",
       "    <tr>\n",
       "      <th>181</th>\n",
       "      <td>182</td>\n",
       "      <td>0.937167</td>\n",
       "    </tr>\n",
       "    <tr>\n",
       "      <th>189</th>\n",
       "      <td>190</td>\n",
       "      <td>-0.478501</td>\n",
       "    </tr>\n",
       "  </tbody>\n",
       "</table>\n",
       "</div>"
      ],
      "text/plain": [
       "     car_ID     price\n",
       "4         5  0.421088\n",
       "29       30  0.400571\n",
       "31       32 -1.165029\n",
       "52       53 -1.029301\n",
       "53       54 -0.966172\n",
       "59       60 -0.271753\n",
       "62       63 -0.232298\n",
       "67       68  1.511641\n",
       "78       79 -0.873057\n",
       "84       85  0.582066\n",
       "87       88 -0.243345\n",
       "88       89 -0.243345\n",
       "104     105  0.810909\n",
       "123     124 -0.035020\n",
       "136     137  0.395836\n",
       "137     138  0.457387\n",
       "141     142 -0.650527\n",
       "149     150  0.146476\n",
       "181     182  0.937167\n",
       "189     190 -0.478501"
      ]
     },
     "execution_count": 64,
     "metadata": {},
     "output_type": "execute_result"
    }
   ],
   "source": [
    "new_df = new_df.assign(price = theta['th1'] * new_df['curbweight'] + theta['th0'])\n",
    "new_df[['car_ID' , 'price']]"
   ]
  },
  {
   "cell_type": "code",
   "execution_count": null,
   "metadata": {},
   "outputs": [],
   "source": []
  },
  {
   "cell_type": "code",
   "execution_count": null,
   "metadata": {},
   "outputs": [],
   "source": []
  }
 ],
 "metadata": {
  "kernelspec": {
   "display_name": "Python 3",
   "language": "python",
   "name": "python3"
  },
  "language_info": {
   "codemirror_mode": {
    "name": "ipython",
    "version": 3
   },
   "file_extension": ".py",
   "mimetype": "text/x-python",
   "name": "python",
   "nbconvert_exporter": "python",
   "pygments_lexer": "ipython3",
   "version": "3.7.0"
  }
 },
 "nbformat": 4,
 "nbformat_minor": 4
}
